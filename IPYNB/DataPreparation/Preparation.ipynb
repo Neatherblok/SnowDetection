{
 "cells": [
  {
   "cell_type": "markdown",
   "id": "d305aca8",
   "metadata": {},
   "source": [
    "To be up-to-date on the most current version of this code. Check out our GitHub repository: https://github.com/Neatherblok/SnowDetection"
   ]
  },
  {
   "cell_type": "code",
   "execution_count": 1,
   "id": "291d0668-017f-4cb2-a6c5-bc1d010f287e",
   "metadata": {},
   "outputs": [],
   "source": [
    "#!pip install datasets\n",
    "#!pip install --upgrade --force-reinstall huggingface_hub"
   ]
  },
  {
   "cell_type": "code",
   "execution_count": null,
   "id": "8c87b68f",
   "metadata": {},
   "outputs": [],
   "source": [
    "import torch\n",
    "import torchvision\n",
    "from torchvision.transforms import transforms, Lambda, Resize\n",
    "from torchvision.datasets import ImageFolder\n",
    "from torch.utils.data import DataLoader\n",
    "import os"
   ]
  },
  {
   "cell_type": "markdown",
   "id": "9b7f64a5-f521-4b48-8625-0c94fe75e531",
   "metadata": {},
   "source": [
    "## Data Preparation"
   ]
  },
  {
   "cell_type": "code",
   "execution_count": 4,
   "id": "6ec7944f-90dd-443a-aa4e-6f95db701bb0",
   "metadata": {},
   "outputs": [],
   "source": [
    "\n",
    "'''\n",
    "Creates a class object CustomDataLoader\n",
    "************\n",
    "__init__\n",
    "  This function initializes a CustomDataLoader object.\n",
    "  It loads a part of the ImageNet-1K dataset specified by the user.\n",
    "  Options for dataset_type are 'train' and 'test'.\n",
    "\n",
    "  Args:\n",
    "    data_path (str): Path to the dataset.\n",
    "    batch_size (int): Batch size for data loading.\n",
    "    dataset_type (str): Specifies whether the dataset is for training or testing.\n",
    "\n",
    "************\n",
    "__getitem__\n",
    "  This function returns two variables containing each a variable present \n",
    "  in the original ImageNet-1K dataset.\n",
    "  Before returning these variables, it splits up and transforms the image \n",
    "  into a fixed resolution of 48 by 48 pixels.\n",
    "  \n",
    "  Returns:\n",
    "    data: The transformed image data.\n",
    "    label: The label corresponding to the image.\n",
    "************\n",
    "__len__\n",
    "  Returns: the length of the loaded dataset.\n",
    "'''\n",
    "\n",
    "class CustomDataLoader:\n",
    "    def __init__(self, data_path, batch_size, dataset_type, mean=None, std=None):\n",
    "        self.data_path = data_path\n",
    "        self.batch_size = batch_size\n",
    "        self.dataset_type = dataset_type\n",
    "        self.mean = mean\n",
    "        self.std = std\n",
    "\n",
    "        if mean is None or std is None:\n",
    "            self.transform = transforms.Compose([\n",
    "                transforms.Resize(128),  # Resize to size 128x128,\n",
    "                transforms.ToTensor()\n",
    "            ])\n",
    "\n",
    "        else: \n",
    "            self.transform = transforms.Compose([\n",
    "                transforms.Resize(128),  # Resize to size 128x128,\n",
    "                transforms.ToTensor(),\n",
    "                transforms.Normalize(mean=self.mean, std=self.std)\n",
    "            ])\n",
    "\n",
    "        self.dataset = torchvision.datasets.ImageFolder(root=f\"{self.data_path}/{dataset_type}\",\n",
    "                                                        transform=self.transform)\n",
    "\n",
    "        if self.dataset_type == 'train':\n",
    "            shuffle = True\n",
    "        else:\n",
    "            shuffle = False\n",
    "\n",
    "        self.data_loader = DataLoader(self.dataset, batch_size=self.batch_size, shuffle=shuffle,\n",
    "                                      num_workers=os.cpu_count(),\n",
    "                                      pin_memory=True if torch.cuda.is_available() else False)\n",
    "\n",
    "    def __getitem__(self, index):\n",
    "        return self.dataset[index]\n",
    "\n",
    "    def __len__(self):\n",
    "        return len(self.dataset)"
   ]
  },
  {
   "cell_type": "code",
   "execution_count": 5,
   "id": "479b95d1-796a-47e7-92d9-e769a2712220",
   "metadata": {},
   "outputs": [],
   "source": [
    "# Specify image dataset path:\n",
    "DATA_PATH = \"../../data\"\n",
    "\n",
    "# Specify image batch size\n",
    "BATCH_SIZE = 4\n",
    "\n",
    "# Load and execute transformations on datasets\n",
    "train_data_loader = CustomDataLoader(DATA_PATH, BATCH_SIZE, dataset_type='train').data_loader\n",
    "test_data_loader = CustomDataLoader(DATA_PATH, BATCH_SIZE, dataset_type='test').data_loader"
   ]
  },
  {
   "cell_type": "code",
   "execution_count": 6,
   "id": "adce8767-aca4-4231-83aa-6110a1043e3c",
   "metadata": {},
   "outputs": [
    {
     "name": "stdout",
     "output_type": "stream",
     "text": [
      "Train Data Loader:\n",
      "Batch Index: 0\n",
      "Inputs Shape: torch.Size([4, 3, 128, 128])\n",
      "Labels Shape: torch.Size([4])\n",
      "Labels: tensor([0, 0, 1, 1])\n",
      "Batch Index: 1\n",
      "Inputs Shape: torch.Size([4, 3, 128, 128])\n",
      "Labels Shape: torch.Size([4])\n",
      "Labels: tensor([1, 0, 0, 1])\n",
      "Batch Index: 2\n",
      "Inputs Shape: torch.Size([4, 3, 128, 128])\n",
      "Labels Shape: torch.Size([4])\n",
      "Labels: tensor([1, 0, 0, 0])\n"
     ]
    }
   ],
   "source": [
    "print(\"Train Data Loader:\")\n",
    "for batch_idx, (inputs, labels) in enumerate(train_data_loader):\n",
    "    print(\"Batch Index:\", batch_idx)\n",
    "    print(\"Inputs Shape:\", inputs.shape)\n",
    "    print(\"Labels Shape:\", labels.shape)\n",
    "    # Print the first few labels in the batch\n",
    "    print(\"Labels:\", labels[:5])\n",
    "    # Break after printing a few batches\n",
    "    if batch_idx == 2:\n",
    "        break"
   ]
  },
  {
   "cell_type": "code",
   "execution_count": 7,
   "id": "c22fccde-2444-4c7d-9dcf-9f58ad769dfe",
   "metadata": {},
   "outputs": [
    {
     "name": "stdout",
     "output_type": "stream",
     "text": [
      "Class Labels: ['no-snow', 'snow']\n"
     ]
    }
   ],
   "source": [
    "# Get the class labels associated with the dataset\n",
    "class_labels = train_data_loader.dataset.classes\n",
    "\n",
    "# Print out the class labels\n",
    "print(\"Class Labels:\", class_labels)"
   ]
  },
  {
   "cell_type": "code",
   "execution_count": 8,
   "id": "0140d2a2-e9de-419d-b83c-cbaf1306cdfe",
   "metadata": {},
   "outputs": [
    {
     "name": "stdout",
     "output_type": "stream",
     "text": [
      "Total number of images in train data loader: 78\n"
     ]
    }
   ],
   "source": [
    "# Calculate the total number of images in the train data loader\n",
    "total_train_images = len(train_data_loader.dataset)\n",
    "\n",
    "# Print out the total number of images\n",
    "print(\"Total number of images in train data loader:\", total_train_images)"
   ]
  }
 ],
 "metadata": {
  "kernelspec": {
   "display_name": "Python 3 (ipykernel)",
   "language": "python",
   "name": "python3"
  },
  "language_info": {
   "codemirror_mode": {
    "name": "ipython",
    "version": 3
   },
   "file_extension": ".py",
   "mimetype": "text/x-python",
   "name": "python",
   "nbconvert_exporter": "python",
   "pygments_lexer": "ipython3",
   "version": "3.10.0"
  }
 },
 "nbformat": 4,
 "nbformat_minor": 5
}
