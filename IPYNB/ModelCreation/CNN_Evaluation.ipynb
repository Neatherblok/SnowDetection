{
 "cells": [
  {
   "cell_type": "code",
   "execution_count": 1,
   "id": "a6d0b613",
   "metadata": {},
   "outputs": [],
   "source": [
    "import torch\n",
    "import torch.nn as nn\n",
    "import torchvision\n",
    "import torchvision.transforms as transforms\n",
    "from torch.utils.data import Dataset\n",
    "from PIL import Image\n",
    "import os\n",
    "import torch.nn.functional as F"
   ]
  },
  {
   "cell_type": "code",
   "execution_count": 2,
   "id": "9fbd070c",
   "metadata": {},
   "outputs": [],
   "source": [
    "class CustomDataset(Dataset):\n",
    "    def __init__(self, root, train=True, val=False, transform=None):\n",
    "        self.root = root\n",
    "        self.transform = transform\n",
    "        self.images = []\n",
    "        self.labels = []\n",
    "\n",
    "        # Load images and labels from your dataset\n",
    "        if train:\n",
    "            folder = os.path.join(root, 'train')\n",
    "        elif val:\n",
    "            folder = os.path.join(root, 'val')\n",
    "        else:\n",
    "            folder = os.path.join(root, 'test')\n",
    "\n",
    "        for class_folder in os.listdir(folder):\n",
    "            class_folder_path = os.path.join(folder, class_folder)\n",
    "            for filename in os.listdir(class_folder_path):\n",
    "                img_path = os.path.join(class_folder_path, filename)\n",
    "                label = 0 if class_folder == 'no-snow' else 1\n",
    "                self.images.append(img_path)\n",
    "                self.labels.append(label)\n",
    "\n",
    "    def __len__(self):\n",
    "        return len(self.images)\n",
    "\n",
    "    def __getitem__(self, idx):\n",
    "        img_path = self.images[idx]\n",
    "        label = self.labels[idx]\n",
    "\n",
    "        img = Image.open(img_path)\n",
    "        if self.transform:\n",
    "            img = self.transform(img)\n",
    "\n",
    "        return img, label"
   ]
  },
  {
   "cell_type": "code",
   "execution_count": 3,
   "id": "938fa6e7",
   "metadata": {},
   "outputs": [],
   "source": [
    "# Define the data loaders\n",
    "transform = transforms.Compose([\n",
    "    transforms.Resize((224, 224)),\n",
    "    transforms.RandomRotation(90),\n",
    "    transforms.RandomHorizontalFlip(),\n",
    "    transforms.RandomCrop(32, 4),\n",
    "    transforms.ToTensor(),\n",
    "    transforms.Normalize((0.5, 0.5, 0.5), (0.5, 0.5, 0.5))\n",
    "])"
   ]
  },
  {
   "cell_type": "code",
   "execution_count": 4,
   "id": "c2640f4f",
   "metadata": {},
   "outputs": [],
   "source": [
    "import torch\n",
    "import torch.nn as nn\n",
    "import torch.nn.functional as F\n",
    "\n",
    "class SpatialAttention(nn.Module):\n",
    "    def __init__(self, in_channels):\n",
    "        super(SpatialAttention, self).__init__()\n",
    "        # Define pooling layers\n",
    "        self.avg_pool = nn.AdaptiveAvgPool2d(1)\n",
    "        self.max_pool = nn.AdaptiveMaxPool2d(1)\n",
    "        \n",
    "        # Define 1x1 convolutional layer\n",
    "        self.conv = nn.Conv2d(in_channels * 2, 1, kernel_size=1)\n",
    "        \n",
    "        # Sigmoid activation\n",
    "        self.sigmoid = nn.Sigmoid()\n",
    "\n",
    "    def forward(self, x):\n",
    "        # Compute average and max pooled representations\n",
    "        avg_out = self.avg_pool(x)\n",
    "        max_out = self.max_pool(x)\n",
    "        \n",
    "        # Concatenate average and max pooled representations\n",
    "        pooled_features = torch.cat((avg_out, max_out), dim=1)\n",
    "        \n",
    "        # Apply 1x1 convolutional layer\n",
    "        conv_out = self.conv(pooled_features)\n",
    "        \n",
    "        # Apply sigmoid activation\n",
    "        attn_scores = self.sigmoid(conv_out)\n",
    "\n",
    "        # Apply attention weights to the input features\n",
    "        attn_output = x * attn_scores\n",
    "\n",
    "        return attn_output, attn_scores\n",
    "\n",
    "\n",
    "\n",
    "# Define the architecture of the model\n",
    "class CustomModel(nn.Module):\n",
    "    def __init__(self):\n",
    "        super(CustomModel, self).__init__()\n",
    "        self.conv1 = nn.Conv2d(3, 32, 3, padding=1)\n",
    "        self.pool1 = nn.MaxPool2d(2, 2)\n",
    "        self.conv2 = nn.Conv2d(32, 64, 3, padding=1)\n",
    "        self.pool2 = nn.MaxPool2d(2, 2)\n",
    "        self.spatial_attention = SpatialAttention(in_channels=64)\n",
    "        self.fc1 = nn.Linear(64 * 8 * 8, 128)\n",
    "        self.fc2 = nn.Linear(128, 2)\n",
    "\n",
    "    def forward(self, x):\n",
    "        x = self.pool1(F.relu(self.conv1(x)))\n",
    "        x = self.pool2(F.relu(self.conv2(x)))\n",
    "\n",
    "        # Apply spatial attention\n",
    "        x, _ = self.spatial_attention(x)\n",
    "\n",
    "        x = x.view(-1, 64 * 8 * 8)  # Reshape to (batch, features)\n",
    "        x = F.relu(self.fc1(x))\n",
    "        x = self.fc2(x)\n",
    "        return x"
   ]
  },
  {
   "cell_type": "code",
   "execution_count": 5,
   "id": "c6a5801c",
   "metadata": {},
   "outputs": [
    {
     "data": {
      "text/plain": [
       "<All keys matched successfully>"
      ]
     },
     "execution_count": 5,
     "metadata": {},
     "output_type": "execute_result"
    }
   ],
   "source": [
    "# Instantiate your model\n",
    "model = CustomModel().cuda()\n",
    "\n",
    "# Load the saved model parameters\n",
    "model.load_state_dict(torch.load('../../models/05-25-2024/best_model.pt'))"
   ]
  },
  {
   "cell_type": "code",
   "execution_count": 6,
   "id": "36b55c86",
   "metadata": {},
   "outputs": [],
   "source": [
    "def f2_score(true_labels, predictions):\n",
    "    true_positives = sum((tl == 1) and (p == 1) for tl, p in zip(true_labels, predictions))\n",
    "    false_positives = sum((tl == 0) and (p == 1) for tl, p in zip(true_labels, predictions))\n",
    "    false_negatives = sum((tl == 1) and (p == 0) for tl, p in zip(true_labels, predictions))\n",
    "\n",
    "    beta = 2  # Weight assigned to recall\n",
    "    precision = true_positives / (true_positives + false_positives)\n",
    "    recall = true_positives / (true_positives + false_negatives)\n",
    "    \n",
    "    if precision == 0 or recall == 0:\n",
    "        return 0\n",
    "    \n",
    "    f2 = (1 + beta**2) * (precision * recall) / ((beta**2 * precision) + recall)\n",
    "    return f2"
   ]
  },
  {
   "cell_type": "code",
   "execution_count": 7,
   "id": "57f2092e",
   "metadata": {},
   "outputs": [],
   "source": [
    "test_dataset = CustomDataset(root='..\\\\..\\\\AI_generated_Data\\\\', train=False, val=False, transform=transform)\n",
    "test_loader = torch.utils.data.DataLoader(test_dataset, batch_size=4, shuffle=False)"
   ]
  },
  {
   "cell_type": "code",
   "execution_count": 8,
   "id": "f7b3a460",
   "metadata": {},
   "outputs": [
    {
     "name": "stdout",
     "output_type": "stream",
     "text": [
      "Accuracy: 0.8578199052132701\n",
      "Precision: 0.8602375424525587\n",
      "Recall: 0.8578199052132701\n",
      "F2-score: 0.9076175040518638\n"
     ]
    }
   ],
   "source": [
    "from sklearn.metrics import accuracy_score, precision_score, recall_score\n",
    "\n",
    "# Predict the classes for the test dataset\n",
    "predicted_classes = []\n",
    "with torch.no_grad():\n",
    "    for data, target in test_loader:\n",
    "        output = model(data.cuda())\n",
    "        _, predicted = torch.max(output.data, 1)\n",
    "        predicted_classes.extend(predicted.tolist())\n",
    "\n",
    "# Create a list of labels from the test dataset\n",
    "y_true = []\n",
    "with torch.no_grad():\n",
    "    for _, target in test_loader:\n",
    "        y_true.extend(target.tolist())\n",
    "\n",
    "# Calculate different metrics\n",
    "accuracy = accuracy_score(y_true, predicted_classes)\n",
    "precision = precision_score(y_true, predicted_classes, average='weighted')\n",
    "recall = recall_score(y_true, predicted_classes, average='weighted')\n",
    "f2 = f2_score(y_true, predicted_classes)\n",
    "\n",
    "print('Accuracy:', accuracy)\n",
    "print('Precision:', precision)\n",
    "print('Recall:', recall)\n",
    "print('F2-score:', f2)"
   ]
  },
  {
   "cell_type": "code",
   "execution_count": 9,
   "id": "7b3a9512",
   "metadata": {},
   "outputs": [
    {
     "name": "stdout",
     "output_type": "stream",
     "text": [
      "[0, 0, 0, 0, 1, 1, 0, 0, 0, 0, 1, 0, 0, 1, 0, 1, 0, 0, 1, 0, 0, 0, 0, 1, 1, 0, 1, 1, 0, 0, 0, 0, 0, 1, 1, 1, 1, 0, 0, 0, 0, 1, 0, 0, 0, 0, 0, 0, 0, 0, 0, 0, 0, 0, 0, 0, 0, 0, 0, 0, 0, 1, 0, 0, 0, 0, 0, 1, 0, 0, 0, 0, 0, 0, 0, 0, 0, 0, 0, 1, 0, 1, 0, 0, 0, 0, 0, 0, 1, 1, 1, 1, 1, 1, 1, 1, 1, 1, 1, 1, 1, 1, 1, 1, 1, 0, 0, 1, 1, 1, 1, 1, 1, 0, 1, 1, 1, 1, 1, 1, 1, 1, 1, 1, 1, 0, 1, 1, 1, 1, 1, 1, 1, 1, 1, 1, 1, 1, 1, 1, 1, 1, 1, 1, 1, 0, 1, 1, 1, 0, 1, 1, 1, 1, 0, 1, 1, 1, 1, 1, 1, 1, 1, 1, 1, 1, 1, 1, 0, 1, 1, 1, 1, 1, 1, 1, 1, 1, 1, 1, 1, 1, 1, 0, 1, 1, 1, 1, 1, 1, 1, 1, 1, 1, 1, 1, 1, 1, 1, 1, 1, 1, 1, 1, 1, 1, 1, 1, 1, 1, 1]\n",
      "[0, 0, 0, 0, 0, 0, 0, 0, 0, 0, 0, 0, 0, 0, 0, 0, 0, 0, 0, 0, 0, 0, 0, 0, 0, 0, 0, 0, 0, 0, 0, 0, 0, 0, 0, 0, 0, 0, 0, 0, 0, 0, 0, 0, 0, 0, 0, 0, 0, 0, 0, 0, 0, 0, 0, 0, 0, 0, 0, 0, 0, 0, 0, 0, 0, 0, 0, 0, 0, 0, 0, 0, 0, 0, 0, 0, 0, 0, 0, 0, 0, 0, 0, 0, 0, 0, 0, 0, 0, 0, 1, 1, 1, 1, 1, 1, 1, 1, 1, 1, 1, 1, 1, 1, 1, 1, 1, 1, 1, 1, 1, 1, 1, 1, 1, 1, 1, 1, 1, 1, 1, 1, 1, 1, 1, 1, 1, 1, 1, 1, 1, 1, 1, 1, 1, 1, 1, 1, 1, 1, 1, 1, 1, 1, 1, 1, 1, 1, 1, 1, 1, 1, 1, 1, 1, 1, 1, 1, 1, 1, 1, 1, 1, 1, 1, 1, 1, 1, 1, 1, 1, 1, 1, 1, 1, 1, 1, 1, 1, 1, 1, 1, 1, 1, 1, 1, 1, 1, 1, 1, 1, 1, 1, 1, 1, 1, 1, 1, 1, 1, 1, 1, 1, 1, 1, 1, 1, 1, 1, 1, 1]\n"
     ]
    }
   ],
   "source": [
    "print(predicted_classes)\n",
    "print(y_true)"
   ]
  }
 ],
 "metadata": {
  "kernelspec": {
   "display_name": "Python 3 (ipykernel)",
   "language": "python",
   "name": "python3"
  },
  "language_info": {
   "codemirror_mode": {
    "name": "ipython",
    "version": 3
   },
   "file_extension": ".py",
   "mimetype": "text/x-python",
   "name": "python",
   "nbconvert_exporter": "python",
   "pygments_lexer": "ipython3",
   "version": "3.10.0"
  }
 },
 "nbformat": 4,
 "nbformat_minor": 5
}
