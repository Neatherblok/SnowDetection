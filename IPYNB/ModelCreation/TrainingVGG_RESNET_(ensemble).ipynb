{
 "cells": [
  {
   "cell_type": "markdown",
   "id": "d305aca8",
   "metadata": {},
   "source": [
    "To be up-to-date on the most current version of this code. Check out my GitHub repository: https://github.com/Neatherblok/SnowDetection"
   ]
  },
  {
   "cell_type": "code",
   "execution_count": 1,
   "id": "8edfaf59",
   "metadata": {},
   "outputs": [],
   "source": [
    "import torch\n",
    "import torch.nn as nn\n",
    "import torch.optim as optim\n",
    "from torchvision import models, transforms, datasets\n",
    "from torch.utils.data import DataLoader\n",
    "from tqdm import tqdm"
   ]
  },
  {
   "cell_type": "markdown",
   "id": "9b7f64a5-f521-4b48-8625-0c94fe75e531",
   "metadata": {},
   "source": [
    "## Data Preparation"
   ]
  },
  {
   "cell_type": "code",
   "execution_count": 2,
   "id": "8d659110",
   "metadata": {},
   "outputs": [],
   "source": [
    "from Data_Preparation.Preparation import CustomDataLoader"
   ]
  },
  {
   "cell_type": "code",
   "execution_count": 3,
   "id": "a1373081-f310-4daf-b9c2-642109f460b9",
   "metadata": {},
   "outputs": [],
   "source": [
    "# training data properties\n",
    "MEAN = [0.485, 0.456, 0.406]\n",
    "STD = [0.229, 0.224, 0.225]\n",
    "BATCH_SIZE = 4"
   ]
  },
  {
   "cell_type": "code",
   "execution_count": 4,
   "id": "db88c730",
   "metadata": {},
   "outputs": [],
   "source": [
    "# Instantiate the CustomDataLoader class for training\n",
    "train_data_loader = CustomDataLoader(data_path=\"./data\", batch_size=BATCH_SIZE, dataset_type=\"train\", mean=MEAN, std=STD).data_loader\n",
    "val_data_loader = CustomDataLoader(data_path=\"./data\", batch_size=BATCH_SIZE, dataset_type=\"val\", mean=MEAN, std=STD).data_loader\n",
    "test_data_loader = CustomDataLoader(data_path=\"./data\", batch_size=BATCH_SIZE, dataset_type=\"test\", mean=MEAN, std=STD).data_loader\n",
    "\n",
    "image_datasets = {'train':train_data_loader.dataset, 'val':val_data_loader.dataset, 'test':test_data_loader.dataset}\n",
    "dataloaders = {'train':train_data_loader, 'val':val_data_loader, 'test':test_data_loader}"
   ]
  },
  {
   "cell_type": "markdown",
   "id": "932b5acd-b466-46bb-b92c-e7c5facd26c1",
   "metadata": {},
   "source": [
    "## Initializing VGG19 and ResNet50 Finetuning"
   ]
  },
  {
   "cell_type": "code",
   "execution_count": 28,
   "id": "11a18667",
   "metadata": {},
   "outputs": [],
   "source": [
    "# Load pre-trained models\n",
    "vgg19 = models.vgg19(pretrained=True)\n",
    "resnet50 = models.resnet50(pretrained=True)"
   ]
  },
  {
   "cell_type": "code",
   "execution_count": 29,
   "id": "4a19ccd5-852f-4bce-9422-06d5f4a97f5b",
   "metadata": {},
   "outputs": [],
   "source": [
    "# Freeze parameters so we don't backprop through them\n",
    "for param in vgg19.parameters():\n",
    "    param.requires_grad = False\n",
    "for param in resnet50.parameters():\n",
    "    param.requires_grad = False"
   ]
  },
  {
   "cell_type": "code",
   "execution_count": 30,
   "id": "1bfe552c-d0f7-4946-8db1-5f7eb1e70218",
   "metadata": {},
   "outputs": [],
   "source": [
    "# Replace the classifier with a new one\n",
    "num_classes = len(train_data_loader.dataset.classes)\n",
    "vgg19.classifier[6] = nn.Linear(4096, num_classes)\n",
    "resnet50.fc = nn.Linear(2048, num_classes)"
   ]
  },
  {
   "cell_type": "code",
   "execution_count": 31,
   "id": "ed27680e",
   "metadata": {},
   "outputs": [],
   "source": [
    "LR = 0.0001\n",
    "# Define loss function and optimizer\n",
    "criterion = nn.CrossEntropyLoss()\n",
    "optimizer_vgg19 = optim.Adam(vgg19.parameters(), lr=LR)\n",
    "optimizer_resnet50 = optim.Adam(resnet50.parameters(), lr=LR)"
   ]
  },
  {
   "cell_type": "markdown",
   "id": "b4aa8288-7a7a-4d5a-a190-74b0c28d547a",
   "metadata": {},
   "source": [
    "## Training VGG19 and ResNet50"
   ]
  },
  {
   "cell_type": "code",
   "execution_count": 32,
   "id": "db5d68dd-025d-4943-8016-14221ab5f9fe",
   "metadata": {},
   "outputs": [
    {
     "name": "stderr",
     "output_type": "stream",
     "text": [
      "\r",
      "  0%|                                                                                           | 0/25 [00:00<?, ?it/s]"
     ]
    },
    {
     "name": "stdout",
     "output_type": "stream",
     "text": [
      "train Loss: 35.8963 | Acc: 1.3205 | F1 VGG19: 0.7820 | F1 ResNet50: 0.5357\n"
     ]
    },
    {
     "name": "stderr",
     "output_type": "stream",
     "text": [
      "\r",
      "  4%|███▎                                                                               | 1/25 [00:22<09:01, 22.56s/it]"
     ]
    },
    {
     "name": "stdout",
     "output_type": "stream",
     "text": [
      "val Loss: 2.4773 | Acc: 1.8889 | F1 VGG19: 1.0000 | F1 ResNet50: 0.8875\n",
      "train Loss: 18.4936 | Acc: 1.6282 | F1 VGG19: 0.8717 | F1 ResNet50: 0.7564\n"
     ]
    },
    {
     "name": "stderr",
     "output_type": "stream",
     "text": [
      "\r",
      "  8%|██████▋                                                                            | 2/25 [00:44<08:36, 22.44s/it]"
     ]
    },
    {
     "name": "stdout",
     "output_type": "stream",
     "text": [
      "val Loss: 22.7621 | Acc: 1.6111 | F1 VGG19: 0.9443 | F1 ResNet50: 0.6250\n",
      "train Loss: 11.2508 | Acc: 1.7949 | F1 VGG19: 0.9872 | F1 ResNet50: 0.8077\n"
     ]
    },
    {
     "name": "stderr",
     "output_type": "stream",
     "text": [
      "\r",
      " 12%|█████████▉                                                                         | 3/25 [01:08<08:28, 23.10s/it]"
     ]
    },
    {
     "name": "stdout",
     "output_type": "stream",
     "text": [
      "val Loss: 18.9377 | Acc: 1.7222 | F1 VGG19: 1.0000 | F1 ResNet50: 0.6990\n",
      "train Loss: 26.1065 | Acc: 1.6923 | F1 VGG19: 1.0000 | F1 ResNet50: 0.6921\n"
     ]
    },
    {
     "name": "stderr",
     "output_type": "stream",
     "text": [
      "\r",
      " 16%|█████████████▎                                                                     | 4/25 [01:35<08:31, 24.35s/it]"
     ]
    },
    {
     "name": "stdout",
     "output_type": "stream",
     "text": [
      "val Loss: 7.5678 | Acc: 1.8333 | F1 VGG19: 1.0000 | F1 ResNet50: 0.8286\n",
      "train Loss: 28.3414 | Acc: 1.6923 | F1 VGG19: 1.0000 | F1 ResNet50: 0.6915\n",
      "val Loss: 8.2696 | Acc: 1.8333 | F1 VGG19: 1.0000 | F1 ResNet50: 0.8286\n"
     ]
    },
    {
     "name": "stderr",
     "output_type": "stream",
     "text": [
      "\r",
      " 20%|████████████████▌                                                                  | 5/25 [02:03<08:38, 25.91s/it]"
     ]
    },
    {
     "name": "stdout",
     "output_type": "stream",
     "text": [
      "train Loss: 20.0313 | Acc: 1.8077 | F1 VGG19: 1.0000 | F1 ResNet50: 0.8061\n"
     ]
    },
    {
     "name": "stderr",
     "output_type": "stream",
     "text": [
      "\r",
      " 24%|███████████████████▉                                                               | 6/25 [02:29<08:10, 25.84s/it]"
     ]
    },
    {
     "name": "stdout",
     "output_type": "stream",
     "text": [
      "val Loss: 25.5840 | Acc: 1.7778 | F1 VGG19: 1.0000 | F1 ResNet50: 0.7662\n",
      "train Loss: 7.4544 | Acc: 1.8974 | F1 VGG19: 1.0000 | F1 ResNet50: 0.8974\n"
     ]
    },
    {
     "name": "stderr",
     "output_type": "stream",
     "text": [
      "\r",
      " 28%|███████████████████████▏                                                           | 7/25 [02:53<07:35, 25.30s/it]"
     ]
    },
    {
     "name": "stdout",
     "output_type": "stream",
     "text": [
      "val Loss: 3.5855 | Acc: 1.9444 | F1 VGG19: 1.0000 | F1 ResNet50: 0.9443\n",
      "train Loss: 0.9168 | Acc: 1.9615 | F1 VGG19: 1.0000 | F1 ResNet50: 0.9615\n"
     ]
    },
    {
     "name": "stderr",
     "output_type": "stream",
     "text": [
      "\r",
      " 32%|██████████████████████████▌                                                        | 8/25 [03:23<07:36, 26.83s/it]"
     ]
    },
    {
     "name": "stdout",
     "output_type": "stream",
     "text": [
      "val Loss: 13.3565 | Acc: 1.8333 | F1 VGG19: 1.0000 | F1 ResNet50: 0.8286\n",
      "train Loss: 0.2648 | Acc: 1.9744 | F1 VGG19: 1.0000 | F1 ResNet50: 0.9744\n"
     ]
    },
    {
     "name": "stderr",
     "output_type": "stream",
     "text": [
      "\r",
      " 36%|█████████████████████████████▉                                                     | 9/25 [03:47<06:56, 26.02s/it]"
     ]
    },
    {
     "name": "stdout",
     "output_type": "stream",
     "text": [
      "val Loss: 4.6250 | Acc: 1.8889 | F1 VGG19: 1.0000 | F1 ResNet50: 0.8889\n",
      "train Loss: 3.8020 | Acc: 1.9231 | F1 VGG19: 1.0000 | F1 ResNet50: 0.9230\n",
      "val Loss: 11.5685 | Acc: 1.8333 | F1 VGG19: 1.0000 | F1 ResNet50: 0.8286\n"
     ]
    },
    {
     "name": "stderr",
     "output_type": "stream",
     "text": [
      "\r",
      " 40%|████████████████████████████████▊                                                 | 10/25 [04:19<06:56, 27.79s/it]"
     ]
    },
    {
     "name": "stdout",
     "output_type": "stream",
     "text": [
      "train Loss: 0.3508 | Acc: 1.9872 | F1 VGG19: 1.0000 | F1 ResNet50: 0.9872\n"
     ]
    },
    {
     "name": "stderr",
     "output_type": "stream",
     "text": [
      "\r",
      " 44%|████████████████████████████████████                                              | 11/25 [04:43<06:11, 26.56s/it]"
     ]
    },
    {
     "name": "stdout",
     "output_type": "stream",
     "text": [
      "val Loss: 12.4608 | Acc: 1.8333 | F1 VGG19: 1.0000 | F1 ResNet50: 0.8286\n",
      "train Loss: 1.6779 | Acc: 1.9615 | F1 VGG19: 1.0000 | F1 ResNet50: 0.9615\n"
     ]
    },
    {
     "name": "stderr",
     "output_type": "stream",
     "text": [
      "\r",
      " 48%|███████████████████████████████████████▎                                          | 12/25 [05:07<05:35, 25.79s/it]"
     ]
    },
    {
     "name": "stdout",
     "output_type": "stream",
     "text": [
      "val Loss: 4.4295 | Acc: 1.8889 | F1 VGG19: 1.0000 | F1 ResNet50: 0.8875\n",
      "train Loss: 4.3142 | Acc: 1.9359 | F1 VGG19: 1.0000 | F1 ResNet50: 0.9358\n"
     ]
    },
    {
     "name": "stderr",
     "output_type": "stream",
     "text": [
      "\r",
      " 52%|██████████████████████████████████████████▋                                       | 13/25 [05:32<05:05, 25.47s/it]"
     ]
    },
    {
     "name": "stdout",
     "output_type": "stream",
     "text": [
      "val Loss: 6.5616 | Acc: 1.8889 | F1 VGG19: 1.0000 | F1 ResNet50: 0.8875\n",
      "train Loss: 0.0000 | Acc: 2.0000 | F1 VGG19: 1.0000 | F1 ResNet50: 1.0000\n"
     ]
    },
    {
     "name": "stderr",
     "output_type": "stream",
     "text": [
      "\r",
      " 56%|█████████████████████████████████████████████▉                                    | 14/25 [05:56<04:34, 24.96s/it]"
     ]
    },
    {
     "name": "stdout",
     "output_type": "stream",
     "text": [
      "val Loss: 21.1792 | Acc: 1.7778 | F1 VGG19: 1.0000 | F1 ResNet50: 0.7662\n",
      "train Loss: 0.1707 | Acc: 1.9872 | F1 VGG19: 1.0000 | F1 ResNet50: 0.9872\n",
      "val Loss: 6.6491 | Acc: 1.8333 | F1 VGG19: 1.0000 | F1 ResNet50: 0.8328\n"
     ]
    },
    {
     "name": "stderr",
     "output_type": "stream",
     "text": [
      "\r",
      " 60%|█████████████████████████████████████████████████▏                                | 15/25 [06:25<04:23, 26.31s/it]"
     ]
    },
    {
     "name": "stdout",
     "output_type": "stream",
     "text": [
      "train Loss: 0.1652 | Acc: 1.9872 | F1 VGG19: 1.0000 | F1 ResNet50: 0.9872\n"
     ]
    },
    {
     "name": "stderr",
     "output_type": "stream",
     "text": [
      "\r",
      " 64%|████████████████████████████████████████████████████▍                             | 16/25 [06:50<03:53, 25.94s/it]"
     ]
    },
    {
     "name": "stdout",
     "output_type": "stream",
     "text": [
      "val Loss: 5.6308 | Acc: 1.8889 | F1 VGG19: 1.0000 | F1 ResNet50: 0.8889\n",
      "train Loss: 3.4507 | Acc: 1.9231 | F1 VGG19: 1.0000 | F1 ResNet50: 0.9230\n"
     ]
    },
    {
     "name": "stderr",
     "output_type": "stream",
     "text": [
      "\r",
      " 68%|███████████████████████████████████████████████████████▊                          | 17/25 [07:14<03:22, 25.27s/it]"
     ]
    },
    {
     "name": "stdout",
     "output_type": "stream",
     "text": [
      "val Loss: 11.3800 | Acc: 1.8333 | F1 VGG19: 1.0000 | F1 ResNet50: 0.8286\n",
      "train Loss: 1.9151 | Acc: 1.9359 | F1 VGG19: 1.0000 | F1 ResNet50: 0.9358\n"
     ]
    },
    {
     "name": "stderr",
     "output_type": "stream",
     "text": [
      "\r",
      " 72%|███████████████████████████████████████████████████████████                       | 18/25 [07:43<03:05, 26.47s/it]"
     ]
    },
    {
     "name": "stdout",
     "output_type": "stream",
     "text": [
      "val Loss: 8.5001 | Acc: 1.8889 | F1 VGG19: 1.0000 | F1 ResNet50: 0.8875\n",
      "train Loss: 0.0000 | Acc: 2.0000 | F1 VGG19: 1.0000 | F1 ResNet50: 1.0000\n"
     ]
    },
    {
     "name": "stderr",
     "output_type": "stream",
     "text": [
      "\r",
      " 76%|██████████████████████████████████████████████████████████████▎                   | 19/25 [08:09<02:38, 26.42s/it]"
     ]
    },
    {
     "name": "stdout",
     "output_type": "stream",
     "text": [
      "val Loss: 6.0333 | Acc: 1.8333 | F1 VGG19: 1.0000 | F1 ResNet50: 0.8328\n",
      "train Loss: 0.0000 | Acc: 2.0000 | F1 VGG19: 1.0000 | F1 ResNet50: 1.0000\n",
      "val Loss: 7.9885 | Acc: 1.7778 | F1 VGG19: 1.0000 | F1 ResNet50: 0.7750\n"
     ]
    },
    {
     "name": "stderr",
     "output_type": "stream",
     "text": [
      "\r",
      " 80%|█████████████████████████████████████████████████████████████████▌                | 20/25 [08:35<02:11, 26.27s/it]"
     ]
    },
    {
     "name": "stdout",
     "output_type": "stream",
     "text": [
      "train Loss: 0.0000 | Acc: 2.0000 | F1 VGG19: 1.0000 | F1 ResNet50: 1.0000\n"
     ]
    },
    {
     "name": "stderr",
     "output_type": "stream",
     "text": [
      "\r",
      " 84%|████████████████████████████████████████████████████████████████████▉             | 21/25 [09:04<01:48, 27.15s/it]"
     ]
    },
    {
     "name": "stdout",
     "output_type": "stream",
     "text": [
      "val Loss: 8.2448 | Acc: 1.7778 | F1 VGG19: 1.0000 | F1 ResNet50: 0.7750\n",
      "train Loss: 0.0000 | Acc: 2.0000 | F1 VGG19: 1.0000 | F1 ResNet50: 1.0000\n"
     ]
    },
    {
     "name": "stderr",
     "output_type": "stream",
     "text": [
      "\r",
      " 88%|████████████████████████████████████████████████████████████████████████▏         | 22/25 [09:31<01:21, 27.07s/it]"
     ]
    },
    {
     "name": "stdout",
     "output_type": "stream",
     "text": [
      "val Loss: 8.2769 | Acc: 1.7778 | F1 VGG19: 1.0000 | F1 ResNet50: 0.7750\n",
      "train Loss: 0.0000 | Acc: 2.0000 | F1 VGG19: 1.0000 | F1 ResNet50: 1.0000\n"
     ]
    },
    {
     "name": "stderr",
     "output_type": "stream",
     "text": [
      "\r",
      " 92%|███████████████████████████████████████████████████████████████████████████▍      | 23/25 [09:56<00:52, 26.41s/it]"
     ]
    },
    {
     "name": "stdout",
     "output_type": "stream",
     "text": [
      "val Loss: 8.2810 | Acc: 1.7778 | F1 VGG19: 1.0000 | F1 ResNet50: 0.7750\n",
      "train Loss: 0.0000 | Acc: 2.0000 | F1 VGG19: 1.0000 | F1 ResNet50: 1.0000\n"
     ]
    },
    {
     "name": "stderr",
     "output_type": "stream",
     "text": [
      "\r",
      " 96%|██████████████████████████████████████████████████████████████████████████████▋   | 24/25 [10:21<00:26, 26.06s/it]"
     ]
    },
    {
     "name": "stdout",
     "output_type": "stream",
     "text": [
      "val Loss: 8.2815 | Acc: 1.7778 | F1 VGG19: 1.0000 | F1 ResNet50: 0.7750\n",
      "train Loss: 0.0000 | Acc: 2.0000 | F1 VGG19: 1.0000 | F1 ResNet50: 1.0000\n",
      "val Loss: 8.2815 | Acc: 1.7778 | F1 VGG19: 1.0000 | F1 ResNet50: 0.7750\n"
     ]
    },
    {
     "name": "stderr",
     "output_type": "stream",
     "text": [
      "100%|██████████████████████████████████████████████████████████████████████████████████| 25/25 [10:46<00:00, 25.87s/it]\n"
     ]
    }
   ],
   "source": [
    "from sklearn.metrics import f1_score\n",
    "\n",
    "# Train the models\n",
    "num_epochs = 25\n",
    "for epoch in tqdm(range(num_epochs)):\n",
    "    for phase in ['train', 'val']:\n",
    "        if phase == 'train':\n",
    "            vgg19.train()\n",
    "            resnet50.train()\n",
    "        else:\n",
    "            vgg19.eval()\n",
    "            resnet50.eval()\n",
    "\n",
    "        running_loss = 0.0\n",
    "        corrects = 0\n",
    "        all_preds_vgg19 = []\n",
    "        all_preds_resnet50 = []\n",
    "        all_labels = []\n",
    "\n",
    "        torch.manual_seed(2809)\n",
    "        for inputs, labels in dataloaders[phase]:\n",
    "            optimizer_vgg19.zero_grad()\n",
    "            optimizer_resnet50.zero_grad()\n",
    "\n",
    "            with torch.set_grad_enabled(phase == 'train'):\n",
    "                outputs_vgg19 = vgg19(inputs)\n",
    "                outputs_resnet50 = resnet50(inputs)\n",
    "                _, preds_vgg19 = torch.max(outputs_vgg19, 1)\n",
    "                _, preds_resnet50 = torch.max(outputs_resnet50, 1)\n",
    "\n",
    "                loss_vgg19 = criterion(outputs_vgg19, labels)\n",
    "                loss_resnet50 = criterion(outputs_resnet50, labels)\n",
    "\n",
    "                if phase == 'train':\n",
    "                    loss_vgg19.backward()\n",
    "                    loss_resnet50.backward()\n",
    "                    optimizer_vgg19.step()\n",
    "                    optimizer_resnet50.step()\n",
    "\n",
    "            running_loss += loss_vgg19.item() * inputs.size(0)\n",
    "            running_loss += loss_resnet50.item() * inputs.size(0)\n",
    "            corrects += torch.sum(preds_vgg19 == labels.data)\n",
    "            corrects += torch.sum(preds_resnet50 == labels.data)\n",
    "            all_preds_vgg19.extend(preds_vgg19.cpu().numpy())\n",
    "            all_preds_resnet50.extend(preds_resnet50.cpu().numpy())\n",
    "            all_labels.extend(labels.cpu().numpy())\n",
    "\n",
    "        epoch_loss = running_loss / len(image_datasets[phase])\n",
    "        epoch_acc = corrects.double() / len(image_datasets[phase])\n",
    "        epoch_f1_vgg19 = f1_score(all_labels, all_preds_vgg19, average='macro')\n",
    "        epoch_f1_resnet50 = f1_score(all_labels, all_preds_resnet50, average='macro')\n",
    "\n",
    "        print('{} Loss: {:.4f} | Acc: {:.4f} | F1 VGG19: {:.4f} | F1 ResNet50: {:.4f}'.format(phase, epoch_loss, epoch_acc, epoch_f1_vgg19, epoch_f1_resnet50))\n",
    "\n",
    "    # Save model every 5 epochs\n",
    "    if (epoch + 1) % 5 == 0:\n",
    "        torch.save(vgg19.state_dict(), f'models/lr_{LR}/vgg19_epoch_{epoch+1}.pt')\n",
    "        torch.save(resnet50.state_dict(), f'models/lr_{LR}/resnet50_epoch_{epoch+1}.pt')\n"
   ]
  },
  {
   "cell_type": "markdown",
   "id": "71d3438a",
   "metadata": {},
   "source": [
    "## Ensemble Models"
   ]
  },
  {
   "cell_type": "code",
   "execution_count": 33,
   "id": "124e5d17",
   "metadata": {},
   "outputs": [],
   "source": [
    "import torch\n",
    "\n",
    "def adjust_weights_based_on_f1(model1_f1, model2_f1):\n",
    "    # Calculate inverses of F1 scores\n",
    "    inverse_model1_f1 = 1 / model1_f1\n",
    "    inverse_model2_f1 = 1 / model2_f1\n",
    "    \n",
    "    # Normalize inverses\n",
    "    total_inverse = inverse_model1_f1 + inverse_model2_f1\n",
    "    weight_model1 = inverse_model1_f1 / total_inverse\n",
    "    weight_model2 = inverse_model2_f1 / total_inverse\n",
    "    \n",
    "    return weight_model1, weight_model2\n",
    "\n",
    "def ensemble_predict(model1, model2, dataloader, model1_f1=None, model2_f1=None):\n",
    "    ens_predictions = []\n",
    "    true_label = []\n",
    "    model1_predictions = []\n",
    "    model2_predictions = []\n",
    "    weights = None\n",
    "    \n",
    "    # Adjust weights based on F1 scores if provided\n",
    "    if model1_f1 is not None and model2_f1 is not None:\n",
    "        weights = adjust_weights_based_on_f1(model1_f1, model2_f1)\n",
    "    elif weights is None:\n",
    "        weights = [0.5, 0.5]  # Default weights if not provided\n",
    "    \n",
    "    for inputs, labels in dataloader:\n",
    "        outputs1 = model1(inputs)\n",
    "        outputs2 = model2(inputs)\n",
    "        \n",
    "        # Weighted averaging\n",
    "        weighted_outputs = (outputs1 * weights[0]) + (outputs2 * weights[1])\n",
    "        \n",
    "        ens_predictions.extend(torch.max(weighted_outputs, 1)[1].tolist())\n",
    "        true_label.extend(labels.tolist())\n",
    "        model1_predictions.extend(torch.max(outputs1, 1)[1].tolist())\n",
    "        model2_predictions.extend(torch.max(outputs2, 1)[1].tolist())\n",
    "        \n",
    "    return {\n",
    "        'ensemble_pred': ens_predictions,\n",
    "        'label': true_label,\n",
    "        '1_pred': model1_predictions,\n",
    "        '2_pred': model2_predictions\n",
    "    }\n"
   ]
  },
  {
   "cell_type": "code",
   "execution_count": 34,
   "id": "1b2da7c9",
   "metadata": {},
   "outputs": [
    {
     "name": "stdout",
     "output_type": "stream",
     "text": [
      "True values: [0, 0, 0, 0, 0, 0, 0, 0, 0, 0, 0, 1, 1, 1, 1, 1, 1, 1, 1, 1, 1, 1]\n",
      "Ensemble predictions: [0, 0, 0, 0, 0, 0, 0, 0, 0, 1, 0, 0, 1, 1, 0, 0, 0, 0, 1, 1, 1, 1]\n",
      "VGG-19 predictions: [0, 0, 0, 0, 0, 0, 0, 0, 0, 1, 0, 0, 1, 1, 0, 0, 0, 1, 1, 1, 1, 1]\n",
      "ResNet-50 predictions: [0, 0, 0, 0, 0, 0, 0, 0, 0, 0, 0, 0, 1, 1, 0, 0, 0, 0, 1, 1, 0, 1]\n",
      "********************************\n",
      "Ensemble F1 score: 0.7179487179487178\n",
      "VGG-19 F1 score: 0.7684210526315789\n",
      "ResNet-50 F1 score: 0.7053571428571429\n",
      "********************************\n",
      "Ensemble accuracy: 0.7272727272727273\n",
      "VGG-19 accuracy: 0.7727272727272727\n",
      "ResNet-50 accuracy: 0.7272727272727273\n"
     ]
    }
   ],
   "source": [
    "from sklearn.metrics import f1_score, accuracy_score\n",
    "\n",
    "# print(ensemble_predictions['label'])\n",
    "# print(ensemble_predictions['ensemble_pred'])\n",
    "# print(ensemble_predictions['1_pred'])\n",
    "# print(ensemble_predictions['2_pred'])\n",
    "\n",
    "model_predictions = ensemble_predict(vgg19, resnet50, dataloaders['test'])\n",
    "\n",
    "vgg_f1 = f1_score(model_predictions['label'], model_predictions['1_pred'], average='macro')\n",
    "resnet_f1 = f1_score(model_predictions['label'], model_predictions['2_pred'], average='macro')\n",
    "vgg_acc = accuracy_score(model_predictions['label'], model_predictions['1_pred'])\n",
    "resnet_acc = accuracy_score(model_predictions['label'], model_predictions['2_pred'])\n",
    "\n",
    "ensemble_predictions = ensemble_predict(vgg19, resnet50, dataloaders['test'], vgg_f1, resnet_f1)\n",
    "ensemble_f1 = f1_score(ensemble_predictions['label'], ensemble_predictions['ensemble_pred'], average='macro')\n",
    "ensemble_acc = accuracy_score(ensemble_predictions['label'], ensemble_predictions['ensemble_pred'])\n",
    "\n",
    "print(f\"True values: {model_predictions['label']}\")\n",
    "print(f\"Ensemble predictions: {ensemble_predictions['ensemble_pred']}\")\n",
    "print(f\"VGG-19 predictions: {model_predictions['1_pred']}\")\n",
    "print(f\"ResNet-50 predictions: {model_predictions['2_pred']}\")\n",
    "\n",
    "print(\"********************************\")\n",
    "\n",
    "print(f'Ensemble F1 score: {ensemble_f1}')\n",
    "print(f'VGG-19 F1 score: {vgg_f1}')\n",
    "print(f'ResNet-50 F1 score: {resnet_f1}')\n",
    "\n",
    "print(\"********************************\")\n",
    "\n",
    "print(f'Ensemble accuracy: {ensemble_acc}')\n",
    "print(f'VGG-19 accuracy: {vgg_acc}')\n",
    "print(f'ResNet-50 accuracy: {resnet_acc}')\n"
   ]
  }
 ],
 "metadata": {
  "kernelspec": {
   "display_name": "Python 3 (ipykernel)",
   "language": "python",
   "name": "python3"
  },
  "language_info": {
   "codemirror_mode": {
    "name": "ipython",
    "version": 3
   },
   "file_extension": ".py",
   "mimetype": "text/x-python",
   "name": "python",
   "nbconvert_exporter": "python",
   "pygments_lexer": "ipython3",
   "version": "3.9.7"
  }
 },
 "nbformat": 4,
 "nbformat_minor": 5
}
