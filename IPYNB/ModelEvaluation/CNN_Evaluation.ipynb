{
 "cells": [
  {
   "cell_type": "code",
   "execution_count": 1,
   "id": "a6d0b613",
   "metadata": {},
   "outputs": [],
   "source": [
    "import torch\n",
    "import torch.nn as nn\n",
    "import torchvision\n",
    "import torchvision.transforms as transforms\n",
    "from torch.utils.data import Dataset\n",
    "from PIL import Image\n",
    "import os\n",
    "import torch.nn.functional as F"
   ]
  },
  {
   "cell_type": "code",
   "execution_count": 2,
   "id": "9fbd070c",
   "metadata": {},
   "outputs": [],
   "source": [
    "import sys\n",
    "\n",
    "sys.path.append('../../IPYNB/DataPreparation')\n",
    "\n",
    "from Preparation import CustomDataLoader"
   ]
  },
  {
   "cell_type": "code",
   "execution_count": 3,
   "id": "c2640f4f",
   "metadata": {},
   "outputs": [],
   "source": [
    "import torch\n",
    "import torch.nn as nn\n",
    "import torch.nn.functional as F\n",
    "\n",
    "class SpatialAttention(nn.Module):\n",
    "    def __init__(self, in_channels):\n",
    "        super(SpatialAttention, self).__init__()\n",
    "        # Define pooling layers\n",
    "        self.avg_pool = nn.AdaptiveAvgPool2d(1)\n",
    "        self.max_pool = nn.AdaptiveMaxPool2d(1)\n",
    "        \n",
    "        # Define 1x1 convolutional layer\n",
    "        self.conv = nn.Conv2d(in_channels * 2, 1, kernel_size=1)\n",
    "        \n",
    "        # Sigmoid activation\n",
    "        self.sigmoid = nn.Sigmoid()\n",
    "\n",
    "    def forward(self, x):\n",
    "        # Compute average and max pooled representations\n",
    "        avg_out = self.avg_pool(x)\n",
    "        max_out = self.max_pool(x)\n",
    "        \n",
    "        # Concatenate average and max pooled representations\n",
    "        pooled_features = torch.cat((avg_out, max_out), dim=1)\n",
    "        \n",
    "        # Apply 1x1 convolutional layer\n",
    "        conv_out = self.conv(pooled_features)\n",
    "        \n",
    "        # Apply sigmoid activation\n",
    "        attn_scores = self.sigmoid(conv_out)\n",
    "\n",
    "        # Apply attention weights to the input features\n",
    "        attn_output = x * attn_scores\n",
    "\n",
    "        return attn_output, attn_scores\n",
    "\n",
    "\n",
    "\n",
    "# Define the architecture of the model\n",
    "class CustomModel(nn.Module):\n",
    "    def __init__(self):\n",
    "        super(CustomModel, self).__init__()\n",
    "        self.conv1 = nn.Conv2d(3, 32, 3, padding=1)\n",
    "        self.pool1 = nn.MaxPool2d(2, 2)\n",
    "        self.conv2 = nn.Conv2d(32, 64, 3, padding=1)\n",
    "        self.pool2 = nn.MaxPool2d(2, 2)\n",
    "        self.spatial_attention = SpatialAttention(in_channels=64)\n",
    "        self.fc1 = nn.Linear(64 * 8 * 8, 128)\n",
    "        self.fc2 = nn.Linear(128, 2)\n",
    "\n",
    "    def forward(self, x):\n",
    "        x = self.pool1(F.relu(self.conv1(x)))\n",
    "        x = self.pool2(F.relu(self.conv2(x)))\n",
    "\n",
    "        # Apply spatial attention\n",
    "        x, _ = self.spatial_attention(x)\n",
    "\n",
    "        x = x.view(-1, 64 * 8 * 8)  # Reshape to (batch, features)\n",
    "        x = F.relu(self.fc1(x))\n",
    "        x = self.fc2(x)\n",
    "        return x"
   ]
  },
  {
   "cell_type": "code",
   "execution_count": 4,
   "id": "c6a5801c",
   "metadata": {},
   "outputs": [
    {
     "data": {
      "text/plain": [
       "<All keys matched successfully>"
      ]
     },
     "execution_count": 4,
     "metadata": {},
     "output_type": "execute_result"
    }
   ],
   "source": [
    "# Instantiate your model\n",
    "model = CustomModel().cuda()\n",
    "\n",
    "# Load the saved model parameters\n",
    "model.load_state_dict(torch.load('../../models/05-25-2024/best_model.pt'))"
   ]
  },
  {
   "cell_type": "code",
   "execution_count": 11,
   "id": "36b55c86",
   "metadata": {},
   "outputs": [],
   "source": [
    "# Define F2 Evaluation score\n",
    "def f2_score(precision, recall):\n",
    "    \n",
    "    # Beta value for F2 score\n",
    "    beta = 2\n",
    "    \n",
    "    # F2 score formula\n",
    "    f2_score = (1 + beta**2) * (precision * recall) / (beta**2 * precision + recall)\n",
    "    \n",
    "    return f2_score\n"
   ]
  },
  {
   "cell_type": "code",
   "execution_count": 6,
   "id": "ffbdab73",
   "metadata": {},
   "outputs": [],
   "source": [
    "# training data properties\n",
    "MEAN = [0.5, 0.5, 0.5]\n",
    "STD = [0.5, 0.5, 0.5]\n",
    "BATCH_SIZE = 4"
   ]
  },
  {
   "cell_type": "code",
   "execution_count": 7,
   "id": "57f2092e",
   "metadata": {},
   "outputs": [],
   "source": [
    "test_loader = CustomDataLoader(data_path=\"../../all_data/data\", batch_size=BATCH_SIZE, dataset_type=\"test\", mean=MEAN, std=STD).data_loader"
   ]
  },
  {
   "cell_type": "markdown",
   "id": "2b47a95e",
   "metadata": {},
   "source": [
    "#### Test 1"
   ]
  },
  {
   "cell_type": "code",
   "execution_count": 12,
   "id": "f7b3a460",
   "metadata": {},
   "outputs": [
    {
     "name": "stdout",
     "output_type": "stream",
     "text": [
      "Average inference time per image: 0.000773 seconds\n",
      "Accuracy: 0.5909090909090909\n",
      "Precision: 0.5916666666666667\n",
      "Recall: 0.5909090909090909\n",
      "F2-score: 0.5910604508196722\n"
     ]
    }
   ],
   "source": [
    "from sklearn.metrics import accuracy_score, precision_score, recall_score\n",
    "import time\n",
    "\n",
    "# Predict the classes for the test dataset\n",
    "predicted_classes = []\n",
    "y_true = []\n",
    "total_inference_time = 0  # To keep track of the total inference time\n",
    "num_images = 0  # To count the number of images processed\n",
    "\n",
    "with torch.no_grad():\n",
    "    for data, target in test_loader:\n",
    "        # Move data to GPU\n",
    "        data = data.cuda()\n",
    "        \n",
    "        # Record the start time before processing the batch\n",
    "        start_time = time.time()\n",
    "        \n",
    "        # Model inference for the entire batch\n",
    "        output = model(data)\n",
    "        \n",
    "        # Record the end time after the batch inference\n",
    "        end_time = time.time()\n",
    "        \n",
    "        # Calculate inference time for the batch and add to total\n",
    "        total_inference_time += (end_time - start_time)\n",
    "        \n",
    "        # Get the predicted classes\n",
    "        _, predicted = torch.max(output.data, 1)\n",
    "        \n",
    "        # Append predicted classes\n",
    "        predicted_classes.extend(predicted.cpu().tolist())  # Move to CPU before converting to list\n",
    "        \n",
    "        # Append true labels\n",
    "        y_true.extend(target.cpu().tolist())  # Move target to CPU before converting to list\n",
    "        \n",
    "        # Update the total number of images\n",
    "        num_images += data.size(0)\n",
    "\n",
    "# Calculate the average inference time per image\n",
    "average_inference_time = total_inference_time / num_images\n",
    "print(f\"Average inference time per image: {average_inference_time:.6f} seconds\")\n",
    "\n",
    "# Calculate different metrics\n",
    "accuracy = accuracy_score(y_true, predicted_classes)\n",
    "precision = precision_score(y_true, predicted_classes, average='weighted')\n",
    "recall = recall_score(y_true, predicted_classes, average='weighted')\n",
    "f2 = f2_score(precision, recall)\n",
    "\n",
    "print('Accuracy:', accuracy)\n",
    "print('Precision:', precision)\n",
    "print('Recall:', recall)\n",
    "print('F2-score:', f2)\n"
   ]
  },
  {
   "cell_type": "code",
   "execution_count": 13,
   "id": "7b3a9512",
   "metadata": {},
   "outputs": [
    {
     "data": {
      "text/plain": [
       "<Figure size 600x600 with 0 Axes>"
      ]
     },
     "metadata": {},
     "output_type": "display_data"
    },
    {
     "data": {
      "image/png": "[encoded data removed]",
      "text/plain": [
       "<Figure size 640x480 with 1 Axes>"
      ]
     },
     "metadata": {},
     "output_type": "display_data"
    }
   ],
   "source": [
    "import matplotlib.pyplot as plt\n",
    "from sklearn.metrics import confusion_matrix, ConfusionMatrixDisplay\n",
    "\n",
    "spatial_conf_matrix = confusion_matrix(y_true, predicted_classes)\n",
    "\n",
    "# Plot confusion matrix for Spatial Attention\n",
    "plt.figure(figsize=(6, 6))\n",
    "vgg_disp = ConfusionMatrixDisplay(confusion_matrix=spatial_conf_matrix)\n",
    "vgg_disp.plot(cmap=\"viridis\", colorbar=False)\n",
    "plt.title(\"Confusion Matrix for Spatial Attention Predictions\")\n",
    "plt.show()"
   ]
  },
  {
   "cell_type": "markdown",
   "id": "eaf24918",
   "metadata": {},
   "source": [
    "#### Test 2"
   ]
  },
  {
   "cell_type": "code",
   "execution_count": 14,
   "id": "3c38fedb",
   "metadata": {},
   "outputs": [
    {
     "name": "stdout",
     "output_type": "stream",
     "text": [
      "Average inference time per image: 0.000632 seconds\n",
      "Accuracy: 0.6363636363636364\n",
      "Precision: 0.6363636363636364\n",
      "Recall: 0.6363636363636364\n",
      "F2-score: 0.6363636363636365\n"
     ]
    }
   ],
   "source": [
    "from sklearn.metrics import accuracy_score, precision_score, recall_score\n",
    "\n",
    "# Predict the classes for the test dataset\n",
    "predicted_classes = []\n",
    "y_true = []\n",
    "total_inference_time = 0  # To keep track of the total inference time\n",
    "num_images = 0  # To count the number of images processed\n",
    "\n",
    "with torch.no_grad():\n",
    "    for data, target in test_loader:\n",
    "        # Move data to GPU\n",
    "        data = data.cuda()\n",
    "        \n",
    "        # Record the start time before processing the batch\n",
    "        start_time = time.time()\n",
    "        \n",
    "        # Model inference for the entire batch\n",
    "        output = model(data)\n",
    "        \n",
    "        # Record the end time after the batch inference\n",
    "        end_time = time.time()\n",
    "        \n",
    "        # Calculate inference time for the batch and add to total\n",
    "        total_inference_time += (end_time - start_time)\n",
    "        \n",
    "        # Get the predicted classes\n",
    "        _, predicted = torch.max(output.data, 1)\n",
    "        \n",
    "        # Append predicted classes\n",
    "        predicted_classes.extend(predicted.cpu().tolist())  # Move to CPU before converting to list\n",
    "        \n",
    "        # Append true labels\n",
    "        y_true.extend(target.cpu().tolist())  # Move target to CPU before converting to list\n",
    "        \n",
    "        # Update the total number of images\n",
    "        num_images += data.size(0)\n",
    "\n",
    "# Calculate the average inference time per image\n",
    "average_inference_time = total_inference_time / num_images\n",
    "print(f\"Average inference time per image: {average_inference_time:.6f} seconds\")\n",
    "\n",
    "# Calculate different metrics\n",
    "accuracy = accuracy_score(y_true, predicted_classes)\n",
    "precision = precision_score(y_true, predicted_classes, average='weighted')\n",
    "recall = recall_score(y_true, predicted_classes, average='weighted')\n",
    "f2 = f2_score(precision, recall)\n",
    "\n",
    "print('Accuracy:', accuracy)\n",
    "print('Precision:', precision)\n",
    "print('Recall:', recall)\n",
    "print('F2-score:', f2)\n"
   ]
  },
  {
   "cell_type": "code",
   "execution_count": 15,
   "id": "8e9045cc",
   "metadata": {},
   "outputs": [
    {
     "data": {
      "text/plain": [
       "<Figure size 600x600 with 0 Axes>"
      ]
     },
     "metadata": {},
     "output_type": "display_data"
    },
    {
     "data": {
      "image/png": "[encoded data removed]",
      "text/plain": [
       "<Figure size 640x480 with 1 Axes>"
      ]
     },
     "metadata": {},
     "output_type": "display_data"
    }
   ],
   "source": [
    "import matplotlib.pyplot as plt\n",
    "from sklearn.metrics import confusion_matrix, ConfusionMatrixDisplay\n",
    "\n",
    "spatial_conf_matrix = confusion_matrix(y_true, predicted_classes)\n",
    "\n",
    "# Plot confusion matrix for Spatial Attention\n",
    "plt.figure(figsize=(6, 6))\n",
    "vgg_disp = ConfusionMatrixDisplay(confusion_matrix=spatial_conf_matrix)\n",
    "vgg_disp.plot(cmap=\"viridis\", colorbar=False)\n",
    "plt.title(\"Confusion Matrix for Spatial Attention Predictions\")\n",
    "plt.show()"
   ]
  },
  {
   "cell_type": "markdown",
   "id": "32a580ea",
   "metadata": {},
   "source": [
    "#### Test 3"
   ]
  },
  {
   "cell_type": "code",
   "execution_count": 16,
   "id": "de46a6e1",
   "metadata": {},
   "outputs": [
    {
     "name": "stdout",
     "output_type": "stream",
     "text": [
      "Average inference time per image: 0.000497 seconds\n",
      "Accuracy: 0.7272727272727273\n",
      "Precision: 0.7272727272727273\n",
      "Recall: 0.7272727272727273\n",
      "F2-score: 0.7272727272727272\n"
     ]
    }
   ],
   "source": [
    "from sklearn.metrics import accuracy_score, precision_score, recall_score\n",
    "\n",
    "# Predict the classes for the test dataset\n",
    "predicted_classes = []\n",
    "y_true = []\n",
    "total_inference_time = 0  # To keep track of the total inference time\n",
    "num_images = 0  # To count the number of images processed\n",
    "\n",
    "with torch.no_grad():\n",
    "    for data, target in test_loader:\n",
    "        # Move data to GPU\n",
    "        data = data.cuda()\n",
    "        \n",
    "        # Record the start time before processing the batch\n",
    "        start_time = time.time()\n",
    "        \n",
    "        # Model inference for the entire batch\n",
    "        output = model(data)\n",
    "        \n",
    "        # Record the end time after the batch inference\n",
    "        end_time = time.time()\n",
    "        \n",
    "        # Calculate inference time for the batch and add to total\n",
    "        total_inference_time += (end_time - start_time)\n",
    "        \n",
    "        # Get the predicted classes\n",
    "        _, predicted = torch.max(output.data, 1)\n",
    "        \n",
    "        # Append predicted classes\n",
    "        predicted_classes.extend(predicted.cpu().tolist())  # Move to CPU before converting to list\n",
    "        \n",
    "        # Append true labels\n",
    "        y_true.extend(target.cpu().tolist())  # Move target to CPU before converting to list\n",
    "        \n",
    "        # Update the total number of images\n",
    "        num_images += data.size(0)\n",
    "\n",
    "# Calculate the average inference time per image\n",
    "average_inference_time = total_inference_time / num_images\n",
    "print(f\"Average inference time per image: {average_inference_time:.6f} seconds\")\n",
    "\n",
    "# Calculate different metrics\n",
    "accuracy = accuracy_score(y_true, predicted_classes)\n",
    "precision = precision_score(y_true, predicted_classes, average='weighted')\n",
    "recall = recall_score(y_true, predicted_classes, average='weighted')\n",
    "f2 = f2_score(precision, recall)\n",
    "\n",
    "print('Accuracy:', accuracy)\n",
    "print('Precision:', precision)\n",
    "print('Recall:', recall)\n",
    "print('F2-score:', f2)\n"
   ]
  },
  {
   "cell_type": "code",
   "execution_count": 17,
   "id": "3984d8e5",
   "metadata": {},
   "outputs": [
    {
     "data": {
      "text/plain": [
       "<Figure size 600x600 with 0 Axes>"
      ]
     },
     "metadata": {},
     "output_type": "display_data"
    },
    {
     "data": {
      "image/png": "[encoded data removed]",
      "text/plain": [
       "<Figure size 640x480 with 1 Axes>"
      ]
     },
     "metadata": {},
     "output_type": "display_data"
    }
   ],
   "source": [
    "import matplotlib.pyplot as plt\n",
    "from sklearn.metrics import confusion_matrix, ConfusionMatrixDisplay\n",
    "\n",
    "spatial_conf_matrix = confusion_matrix(y_true, predicted_classes)\n",
    "\n",
    "# Plot confusion matrix for Spatial Attention\n",
    "plt.figure(figsize=(6, 6))\n",
    "vgg_disp = ConfusionMatrixDisplay(confusion_matrix=spatial_conf_matrix)\n",
    "vgg_disp.plot(cmap=\"viridis\", colorbar=False)\n",
    "plt.title(\"Confusion Matrix for Spatial Attention Predictions\")\n",
    "plt.show()"
   ]
  }
 ],
 "metadata": {
  "kernelspec": {
   "display_name": ".env",
   "language": "python",
   "name": "python3"
  },
  "language_info": {
   "codemirror_mode": {
    "name": "ipython",
    "version": 3
   },
   "file_extension": ".py",
   "mimetype": "text/x-python",
   "name": "python",
   "nbconvert_exporter": "python",
   "pygments_lexer": "ipython3",
   "version": "3.10.0"
  }
 },
 "nbformat": 4,
 "nbformat_minor": 5
}
