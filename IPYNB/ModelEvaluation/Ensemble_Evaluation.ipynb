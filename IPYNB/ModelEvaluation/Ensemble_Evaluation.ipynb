{
 "cells": [
  {
   "cell_type": "code",
   "execution_count": 1,
   "id": "51841c9c",
   "metadata": {},
   "outputs": [],
   "source": [
    "import sys\n",
    "\n",
    "sys.path.append('../../IPYNB/DataPreparation')\n",
    "\n",
    "from Preparation import CustomDataLoader"
   ]
  },
  {
   "cell_type": "code",
   "execution_count": 2,
   "id": "7a0a79f9",
   "metadata": {},
   "outputs": [],
   "source": [
    "import torch\n",
    "import torch.nn as nn\n",
    "import torchvision\n",
    "import torchvision.transforms as transforms\n",
    "from torch.utils.data import Dataset\n",
    "from PIL import Image\n",
    "import os\n",
    "import torch.nn.functional as F"
   ]
  },
  {
   "cell_type": "code",
   "execution_count": 3,
   "id": "5ea022dd",
   "metadata": {},
   "outputs": [],
   "source": [
    "# Define the data loaders\n",
    "transform = transforms.Compose([\n",
    "    transforms.Resize((224, 224)),\n",
    "    transforms.RandomRotation(90),\n",
    "    transforms.RandomHorizontalFlip(),\n",
    "    transforms.RandomCrop(32, 4),\n",
    "    transforms.ToTensor(),\n",
    "    transforms.Normalize((0.485, 0.456, 0.406), (0.229, 0.224, 0.225))\n",
    "])"
   ]
  },
  {
   "cell_type": "code",
   "execution_count": 4,
   "id": "938fa6e7",
   "metadata": {},
   "outputs": [],
   "source": [
    "# training data properties\n",
    "MEAN = [0.485, 0.456, 0.406]\n",
    "STD = [0.229, 0.224, 0.225]\n",
    "BATCH_SIZE = 4\n",
    "\n",
    "test_data_loader = CustomDataLoader(data_path=\"../../all_data/data\", batch_size=BATCH_SIZE, dataset_type=\"test\", mean=MEAN, std=STD).data_loader"
   ]
  },
  {
   "cell_type": "code",
   "execution_count": 5,
   "id": "7bbdbe78",
   "metadata": {},
   "outputs": [],
   "source": [
    "# Define F2 Evaluation score\n",
    "def f2_score(precision, recall):\n",
    "    \n",
    "    # Beta value for F2 score\n",
    "    beta = 2\n",
    "    \n",
    "    # F2 score formula\n",
    "    f2_score = (1 + beta**2) * (precision * recall) / (beta**2 * precision + recall)\n",
    "    \n",
    "    return f2_score\n"
   ]
  },
  {
   "cell_type": "code",
   "execution_count": 6,
   "id": "9ff09a9a",
   "metadata": {},
   "outputs": [],
   "source": [
    "import torch\n",
    "\n",
    "def adjust_weights_based_on_f1(model1_f1, model2_f1):\n",
    "    # Calculate inverses of F1 scores\n",
    "    inverse_model1_f1 = 1 / model1_f1\n",
    "    inverse_model2_f1 = 1 / model2_f1\n",
    "    \n",
    "    # Normalize inverses\n",
    "    total_inverse = inverse_model1_f1 + inverse_model2_f1\n",
    "    weight_model1 = inverse_model1_f1 / total_inverse\n",
    "    weight_model2 = inverse_model2_f1 / total_inverse\n",
    "    \n",
    "    return weight_model1, weight_model2\n",
    "\n",
    "def ensemble_predict(model1, model2, dataloader, model1_f1=None, model2_f1=None):\n",
    "    ens_predictions = []\n",
    "    true_label = []\n",
    "    model1_predictions = []\n",
    "    model2_predictions = []\n",
    "    weights = None\n",
    "    \n",
    "    # Adjust weights based on F1 scores if provided\n",
    "    if model1_f1 is not None and model2_f1 is not None:\n",
    "        weights = adjust_weights_based_on_f1(model1_f1, model2_f1)\n",
    "    elif weights is None:\n",
    "        weights = [0.5, 0.5]  # Default weights if not provided\n",
    "    \n",
    "    for inputs, labels in dataloader:        \n",
    "        outputs1 = model1(inputs)\n",
    "        outputs2 = model2(inputs)\n",
    "        \n",
    "        # Weighted averaging\n",
    "        weighted_outputs = (outputs1 * weights[0]) + (outputs2 * weights[1])\n",
    "        \n",
    "        ens_predictions.extend(torch.max(weighted_outputs, 1)[1].tolist())\n",
    "        true_label.extend(labels.tolist())\n",
    "        model1_predictions.extend(torch.max(outputs1, 1)[1].tolist())\n",
    "        model2_predictions.extend(torch.max(outputs2, 1)[1].tolist())\n",
    "        \n",
    "    return {\n",
    "        'ensemble_pred': ens_predictions,\n",
    "        'label': true_label,\n",
    "        '1_pred': model1_predictions,\n",
    "        '2_pred': model2_predictions\n",
    "    }\n"
   ]
  },
  {
   "cell_type": "code",
   "execution_count": 7,
   "id": "600e57eb",
   "metadata": {},
   "outputs": [
    {
     "name": "stderr",
     "output_type": "stream",
     "text": [
      "c:\\Users\\rdede\\Documents\\GitHub\\SnowDetection\\.env\\lib\\site-packages\\torchvision\\models\\_utils.py:208: UserWarning: The parameter 'pretrained' is deprecated since 0.13 and may be removed in the future, please use 'weights' instead.\n",
      "  warnings.warn(\n",
      "c:\\Users\\rdede\\Documents\\GitHub\\SnowDetection\\.env\\lib\\site-packages\\torchvision\\models\\_utils.py:223: UserWarning: Arguments other than a weight enum or `None` for 'weights' are deprecated since 0.13 and may be removed in the future. The current behavior is equivalent to passing `weights=None`.\n",
      "  warnings.warn(msg)\n"
     ]
    },
    {
     "data": {
      "text/plain": [
       "ResNet(\n",
       "  (conv1): Conv2d(3, 64, kernel_size=(7, 7), stride=(2, 2), padding=(3, 3), bias=False)\n",
       "  (bn1): BatchNorm2d(64, eps=1e-05, momentum=0.1, affine=True, track_running_stats=True)\n",
       "  (relu): ReLU(inplace=True)\n",
       "  (maxpool): MaxPool2d(kernel_size=3, stride=2, padding=1, dilation=1, ceil_mode=False)\n",
       "  (layer1): Sequential(\n",
       "    (0): Bottleneck(\n",
       "      (conv1): Conv2d(64, 64, kernel_size=(1, 1), stride=(1, 1), bias=False)\n",
       "      (bn1): BatchNorm2d(64, eps=1e-05, momentum=0.1, affine=True, track_running_stats=True)\n",
       "      (conv2): Conv2d(64, 64, kernel_size=(3, 3), stride=(1, 1), padding=(1, 1), bias=False)\n",
       "      (bn2): BatchNorm2d(64, eps=1e-05, momentum=0.1, affine=True, track_running_stats=True)\n",
       "      (conv3): Conv2d(64, 256, kernel_size=(1, 1), stride=(1, 1), bias=False)\n",
       "      (bn3): BatchNorm2d(256, eps=1e-05, momentum=0.1, affine=True, track_running_stats=True)\n",
       "      (relu): ReLU(inplace=True)\n",
       "      (downsample): Sequential(\n",
       "        (0): Conv2d(64, 256, kernel_size=(1, 1), stride=(1, 1), bias=False)\n",
       "        (1): BatchNorm2d(256, eps=1e-05, momentum=0.1, affine=True, track_running_stats=True)\n",
       "      )\n",
       "    )\n",
       "    (1): Bottleneck(\n",
       "      (conv1): Conv2d(256, 64, kernel_size=(1, 1), stride=(1, 1), bias=False)\n",
       "      (bn1): BatchNorm2d(64, eps=1e-05, momentum=0.1, affine=True, track_running_stats=True)\n",
       "      (conv2): Conv2d(64, 64, kernel_size=(3, 3), stride=(1, 1), padding=(1, 1), bias=False)\n",
       "      (bn2): BatchNorm2d(64, eps=1e-05, momentum=0.1, affine=True, track_running_stats=True)\n",
       "      (conv3): Conv2d(64, 256, kernel_size=(1, 1), stride=(1, 1), bias=False)\n",
       "      (bn3): BatchNorm2d(256, eps=1e-05, momentum=0.1, affine=True, track_running_stats=True)\n",
       "      (relu): ReLU(inplace=True)\n",
       "    )\n",
       "    (2): Bottleneck(\n",
       "      (conv1): Conv2d(256, 64, kernel_size=(1, 1), stride=(1, 1), bias=False)\n",
       "      (bn1): BatchNorm2d(64, eps=1e-05, momentum=0.1, affine=True, track_running_stats=True)\n",
       "      (conv2): Conv2d(64, 64, kernel_size=(3, 3), stride=(1, 1), padding=(1, 1), bias=False)\n",
       "      (bn2): BatchNorm2d(64, eps=1e-05, momentum=0.1, affine=True, track_running_stats=True)\n",
       "      (conv3): Conv2d(64, 256, kernel_size=(1, 1), stride=(1, 1), bias=False)\n",
       "      (bn3): BatchNorm2d(256, eps=1e-05, momentum=0.1, affine=True, track_running_stats=True)\n",
       "      (relu): ReLU(inplace=True)\n",
       "    )\n",
       "  )\n",
       "  (layer2): Sequential(\n",
       "    (0): Bottleneck(\n",
       "      (conv1): Conv2d(256, 128, kernel_size=(1, 1), stride=(1, 1), bias=False)\n",
       "      (bn1): BatchNorm2d(128, eps=1e-05, momentum=0.1, affine=True, track_running_stats=True)\n",
       "      (conv2): Conv2d(128, 128, kernel_size=(3, 3), stride=(2, 2), padding=(1, 1), bias=False)\n",
       "      (bn2): BatchNorm2d(128, eps=1e-05, momentum=0.1, affine=True, track_running_stats=True)\n",
       "      (conv3): Conv2d(128, 512, kernel_size=(1, 1), stride=(1, 1), bias=False)\n",
       "      (bn3): BatchNorm2d(512, eps=1e-05, momentum=0.1, affine=True, track_running_stats=True)\n",
       "      (relu): ReLU(inplace=True)\n",
       "      (downsample): Sequential(\n",
       "        (0): Conv2d(256, 512, kernel_size=(1, 1), stride=(2, 2), bias=False)\n",
       "        (1): BatchNorm2d(512, eps=1e-05, momentum=0.1, affine=True, track_running_stats=True)\n",
       "      )\n",
       "    )\n",
       "    (1): Bottleneck(\n",
       "      (conv1): Conv2d(512, 128, kernel_size=(1, 1), stride=(1, 1), bias=False)\n",
       "      (bn1): BatchNorm2d(128, eps=1e-05, momentum=0.1, affine=True, track_running_stats=True)\n",
       "      (conv2): Conv2d(128, 128, kernel_size=(3, 3), stride=(1, 1), padding=(1, 1), bias=False)\n",
       "      (bn2): BatchNorm2d(128, eps=1e-05, momentum=0.1, affine=True, track_running_stats=True)\n",
       "      (conv3): Conv2d(128, 512, kernel_size=(1, 1), stride=(1, 1), bias=False)\n",
       "      (bn3): BatchNorm2d(512, eps=1e-05, momentum=0.1, affine=True, track_running_stats=True)\n",
       "      (relu): ReLU(inplace=True)\n",
       "    )\n",
       "    (2): Bottleneck(\n",
       "      (conv1): Conv2d(512, 128, kernel_size=(1, 1), stride=(1, 1), bias=False)\n",
       "      (bn1): BatchNorm2d(128, eps=1e-05, momentum=0.1, affine=True, track_running_stats=True)\n",
       "      (conv2): Conv2d(128, 128, kernel_size=(3, 3), stride=(1, 1), padding=(1, 1), bias=False)\n",
       "      (bn2): BatchNorm2d(128, eps=1e-05, momentum=0.1, affine=True, track_running_stats=True)\n",
       "      (conv3): Conv2d(128, 512, kernel_size=(1, 1), stride=(1, 1), bias=False)\n",
       "      (bn3): BatchNorm2d(512, eps=1e-05, momentum=0.1, affine=True, track_running_stats=True)\n",
       "      (relu): ReLU(inplace=True)\n",
       "    )\n",
       "    (3): Bottleneck(\n",
       "      (conv1): Conv2d(512, 128, kernel_size=(1, 1), stride=(1, 1), bias=False)\n",
       "      (bn1): BatchNorm2d(128, eps=1e-05, momentum=0.1, affine=True, track_running_stats=True)\n",
       "      (conv2): Conv2d(128, 128, kernel_size=(3, 3), stride=(1, 1), padding=(1, 1), bias=False)\n",
       "      (bn2): BatchNorm2d(128, eps=1e-05, momentum=0.1, affine=True, track_running_stats=True)\n",
       "      (conv3): Conv2d(128, 512, kernel_size=(1, 1), stride=(1, 1), bias=False)\n",
       "      (bn3): BatchNorm2d(512, eps=1e-05, momentum=0.1, affine=True, track_running_stats=True)\n",
       "      (relu): ReLU(inplace=True)\n",
       "    )\n",
       "  )\n",
       "  (layer3): Sequential(\n",
       "    (0): Bottleneck(\n",
       "      (conv1): Conv2d(512, 256, kernel_size=(1, 1), stride=(1, 1), bias=False)\n",
       "      (bn1): BatchNorm2d(256, eps=1e-05, momentum=0.1, affine=True, track_running_stats=True)\n",
       "      (conv2): Conv2d(256, 256, kernel_size=(3, 3), stride=(2, 2), padding=(1, 1), bias=False)\n",
       "      (bn2): BatchNorm2d(256, eps=1e-05, momentum=0.1, affine=True, track_running_stats=True)\n",
       "      (conv3): Conv2d(256, 1024, kernel_size=(1, 1), stride=(1, 1), bias=False)\n",
       "      (bn3): BatchNorm2d(1024, eps=1e-05, momentum=0.1, affine=True, track_running_stats=True)\n",
       "      (relu): ReLU(inplace=True)\n",
       "      (downsample): Sequential(\n",
       "        (0): Conv2d(512, 1024, kernel_size=(1, 1), stride=(2, 2), bias=False)\n",
       "        (1): BatchNorm2d(1024, eps=1e-05, momentum=0.1, affine=True, track_running_stats=True)\n",
       "      )\n",
       "    )\n",
       "    (1): Bottleneck(\n",
       "      (conv1): Conv2d(1024, 256, kernel_size=(1, 1), stride=(1, 1), bias=False)\n",
       "      (bn1): BatchNorm2d(256, eps=1e-05, momentum=0.1, affine=True, track_running_stats=True)\n",
       "      (conv2): Conv2d(256, 256, kernel_size=(3, 3), stride=(1, 1), padding=(1, 1), bias=False)\n",
       "      (bn2): BatchNorm2d(256, eps=1e-05, momentum=0.1, affine=True, track_running_stats=True)\n",
       "      (conv3): Conv2d(256, 1024, kernel_size=(1, 1), stride=(1, 1), bias=False)\n",
       "      (bn3): BatchNorm2d(1024, eps=1e-05, momentum=0.1, affine=True, track_running_stats=True)\n",
       "      (relu): ReLU(inplace=True)\n",
       "    )\n",
       "    (2): Bottleneck(\n",
       "      (conv1): Conv2d(1024, 256, kernel_size=(1, 1), stride=(1, 1), bias=False)\n",
       "      (bn1): BatchNorm2d(256, eps=1e-05, momentum=0.1, affine=True, track_running_stats=True)\n",
       "      (conv2): Conv2d(256, 256, kernel_size=(3, 3), stride=(1, 1), padding=(1, 1), bias=False)\n",
       "      (bn2): BatchNorm2d(256, eps=1e-05, momentum=0.1, affine=True, track_running_stats=True)\n",
       "      (conv3): Conv2d(256, 1024, kernel_size=(1, 1), stride=(1, 1), bias=False)\n",
       "      (bn3): BatchNorm2d(1024, eps=1e-05, momentum=0.1, affine=True, track_running_stats=True)\n",
       "      (relu): ReLU(inplace=True)\n",
       "    )\n",
       "    (3): Bottleneck(\n",
       "      (conv1): Conv2d(1024, 256, kernel_size=(1, 1), stride=(1, 1), bias=False)\n",
       "      (bn1): BatchNorm2d(256, eps=1e-05, momentum=0.1, affine=True, track_running_stats=True)\n",
       "      (conv2): Conv2d(256, 256, kernel_size=(3, 3), stride=(1, 1), padding=(1, 1), bias=False)\n",
       "      (bn2): BatchNorm2d(256, eps=1e-05, momentum=0.1, affine=True, track_running_stats=True)\n",
       "      (conv3): Conv2d(256, 1024, kernel_size=(1, 1), stride=(1, 1), bias=False)\n",
       "      (bn3): BatchNorm2d(1024, eps=1e-05, momentum=0.1, affine=True, track_running_stats=True)\n",
       "      (relu): ReLU(inplace=True)\n",
       "    )\n",
       "    (4): Bottleneck(\n",
       "      (conv1): Conv2d(1024, 256, kernel_size=(1, 1), stride=(1, 1), bias=False)\n",
       "      (bn1): BatchNorm2d(256, eps=1e-05, momentum=0.1, affine=True, track_running_stats=True)\n",
       "      (conv2): Conv2d(256, 256, kernel_size=(3, 3), stride=(1, 1), padding=(1, 1), bias=False)\n",
       "      (bn2): BatchNorm2d(256, eps=1e-05, momentum=0.1, affine=True, track_running_stats=True)\n",
       "      (conv3): Conv2d(256, 1024, kernel_size=(1, 1), stride=(1, 1), bias=False)\n",
       "      (bn3): BatchNorm2d(1024, eps=1e-05, momentum=0.1, affine=True, track_running_stats=True)\n",
       "      (relu): ReLU(inplace=True)\n",
       "    )\n",
       "    (5): Bottleneck(\n",
       "      (conv1): Conv2d(1024, 256, kernel_size=(1, 1), stride=(1, 1), bias=False)\n",
       "      (bn1): BatchNorm2d(256, eps=1e-05, momentum=0.1, affine=True, track_running_stats=True)\n",
       "      (conv2): Conv2d(256, 256, kernel_size=(3, 3), stride=(1, 1), padding=(1, 1), bias=False)\n",
       "      (bn2): BatchNorm2d(256, eps=1e-05, momentum=0.1, affine=True, track_running_stats=True)\n",
       "      (conv3): Conv2d(256, 1024, kernel_size=(1, 1), stride=(1, 1), bias=False)\n",
       "      (bn3): BatchNorm2d(1024, eps=1e-05, momentum=0.1, affine=True, track_running_stats=True)\n",
       "      (relu): ReLU(inplace=True)\n",
       "    )\n",
       "  )\n",
       "  (layer4): Sequential(\n",
       "    (0): Bottleneck(\n",
       "      (conv1): Conv2d(1024, 512, kernel_size=(1, 1), stride=(1, 1), bias=False)\n",
       "      (bn1): BatchNorm2d(512, eps=1e-05, momentum=0.1, affine=True, track_running_stats=True)\n",
       "      (conv2): Conv2d(512, 512, kernel_size=(3, 3), stride=(2, 2), padding=(1, 1), bias=False)\n",
       "      (bn2): BatchNorm2d(512, eps=1e-05, momentum=0.1, affine=True, track_running_stats=True)\n",
       "      (conv3): Conv2d(512, 2048, kernel_size=(1, 1), stride=(1, 1), bias=False)\n",
       "      (bn3): BatchNorm2d(2048, eps=1e-05, momentum=0.1, affine=True, track_running_stats=True)\n",
       "      (relu): ReLU(inplace=True)\n",
       "      (downsample): Sequential(\n",
       "        (0): Conv2d(1024, 2048, kernel_size=(1, 1), stride=(2, 2), bias=False)\n",
       "        (1): BatchNorm2d(2048, eps=1e-05, momentum=0.1, affine=True, track_running_stats=True)\n",
       "      )\n",
       "    )\n",
       "    (1): Bottleneck(\n",
       "      (conv1): Conv2d(2048, 512, kernel_size=(1, 1), stride=(1, 1), bias=False)\n",
       "      (bn1): BatchNorm2d(512, eps=1e-05, momentum=0.1, affine=True, track_running_stats=True)\n",
       "      (conv2): Conv2d(512, 512, kernel_size=(3, 3), stride=(1, 1), padding=(1, 1), bias=False)\n",
       "      (bn2): BatchNorm2d(512, eps=1e-05, momentum=0.1, affine=True, track_running_stats=True)\n",
       "      (conv3): Conv2d(512, 2048, kernel_size=(1, 1), stride=(1, 1), bias=False)\n",
       "      (bn3): BatchNorm2d(2048, eps=1e-05, momentum=0.1, affine=True, track_running_stats=True)\n",
       "      (relu): ReLU(inplace=True)\n",
       "    )\n",
       "    (2): Bottleneck(\n",
       "      (conv1): Conv2d(2048, 512, kernel_size=(1, 1), stride=(1, 1), bias=False)\n",
       "      (bn1): BatchNorm2d(512, eps=1e-05, momentum=0.1, affine=True, track_running_stats=True)\n",
       "      (conv2): Conv2d(512, 512, kernel_size=(3, 3), stride=(1, 1), padding=(1, 1), bias=False)\n",
       "      (bn2): BatchNorm2d(512, eps=1e-05, momentum=0.1, affine=True, track_running_stats=True)\n",
       "      (conv3): Conv2d(512, 2048, kernel_size=(1, 1), stride=(1, 1), bias=False)\n",
       "      (bn3): BatchNorm2d(2048, eps=1e-05, momentum=0.1, affine=True, track_running_stats=True)\n",
       "      (relu): ReLU(inplace=True)\n",
       "    )\n",
       "  )\n",
       "  (avgpool): AdaptiveAvgPool2d(output_size=(1, 1))\n",
       "  (fc): Linear(in_features=2048, out_features=2, bias=True)\n",
       ")"
      ]
     },
     "execution_count": 7,
     "metadata": {},
     "output_type": "execute_result"
    }
   ],
   "source": [
    "import torchvision.models as models\n",
    "from torchvision import transforms\n",
    "from torch.utils.data import DataLoader\n",
    "import matplotlib.pyplot as plt\n",
    "from sklearn.metrics import precision_score, accuracy_score, confusion_matrix, ConfusionMatrixDisplay, recall_score\n",
    "\n",
    "\n",
    "# Load the saved models\n",
    "vgg19_path = '../../models/02-25-2024/lr_0.0001/vgg19_epoch_15.pt'  # Adjust the path as per your saved model\n",
    "resnet50_path = '../../models/02-25-2024/lr_0.0001/resnet50_epoch_15.pt'  # Adjust the path as per your saved model\n",
    "\n",
    "# Define the VGG-19 model architecture\n",
    "vgg19_model = models.vgg19(pretrained=False)\n",
    "\n",
    "# Modify the classifier layer for 2 classes\n",
    "vgg19_model.classifier[6] = torch.nn.Linear(in_features=4096, out_features=2)\n",
    "\n",
    "# Load the parameters into the model\n",
    "state_dict = torch.load(vgg19_path)\n",
    "# Remove classifier parameters from the loaded state dict\n",
    "for key in list(state_dict.keys()):\n",
    "    if 'classifier' in key:\n",
    "        del state_dict[key]\n",
    "vgg19_model.load_state_dict(state_dict, strict=False)\n",
    "\n",
    "# Ensure the model is in evaluation mode\n",
    "vgg19_model.eval()\n",
    "\n",
    "\n",
    "# Define the ResNet-50 model architecture\n",
    "resnet50_model = models.resnet50(pretrained=False)\n",
    "\n",
    "# Modify the last fully connected layer for 2 classes\n",
    "num_ftrs = resnet50_model.fc.in_features\n",
    "resnet50_model.fc = torch.nn.Linear(num_ftrs, 2)\n",
    "\n",
    "# Load the parameters into the model\n",
    "state_dict = torch.load(resnet50_path)\n",
    "# Remove fc parameters from the loaded state dict\n",
    "for key in list(state_dict.keys()):\n",
    "    if 'fc' in key:\n",
    "        del state_dict[key]\n",
    "resnet50_model.load_state_dict(state_dict, strict=False)\n",
    "\n",
    "# Ensure the model is in evaluation mode\n",
    "resnet50_model.eval()\n"
   ]
  },
  {
   "cell_type": "markdown",
   "id": "82ad58c3",
   "metadata": {},
   "source": [
    "#### Test 1"
   ]
  },
  {
   "cell_type": "code",
   "execution_count": 20,
   "id": "b54929cd",
   "metadata": {},
   "outputs": [
    {
     "name": "stdout",
     "output_type": "stream",
     "text": [
      "VGG-19 average inference time per image: 0.048221 seconds\n",
      "ResNet-50 average inference time per image: 0.021552 seconds\n",
      "Ensemble average inference time per image: 0.069773 seconds\n",
      "********************************\n",
      "Ensemble F2 score: 0.39501404494382025\n",
      "VGG-19 F2 score: 0.35040431266846356\n",
      "ResNet-50 F2 score: 0.5\n",
      "********************************\n",
      "Ensemble accuracy: 0.4090909090909091\n",
      "VGG-19 accuracy: 0.36363636363636365\n",
      "ResNet-50 accuracy: 0.5\n",
      "********************************\n",
      "Ensemble recall: 0.4090909090909091\n",
      "VGG-19 recall: 0.36363636363636365\n",
      "ResNet-50 recall: 0.5\n",
      "********************************\n",
      "Ensemble precison: 0.3472222222222222\n",
      "VGG-19 precision: 0.3058823529411765\n",
      "ResNet-50 precision: 0.5\n"
     ]
    }
   ],
   "source": [
    "import time\n",
    "# Check if a GPU is available and set the device accordingly\n",
    "device = torch.device(\"cpu\")\n",
    "\n",
    "# Function to perform ensemble prediction and measure inference time\n",
    "def ensemble_predict(vgg_model, resnet_model, test_loader):\n",
    "    predictions = {'label': [], '1_pred': [], '2_pred': [], 'ensemble_pred': []}\n",
    "    total_vgg_time = 0  # To track the total inference time for VGG-19\n",
    "    total_resnet_time = 0  # To track the total inference time for ResNet-50\n",
    "    total_ensemble_time = 0  # To track the total ensemble inference time\n",
    "    \n",
    "    with torch.no_grad():\n",
    "        for data, target in test_loader:\n",
    "            start_ensemble_time = time.time()\n",
    "            data = data.to(device)  # Move data to the same device as the models (GPU/CPU)\n",
    "            target = target.to(device)  # Move labels to the device\n",
    "            \n",
    "            # Measure time for VGG-19 prediction\n",
    "            start_vgg_time = time.time()\n",
    "            vgg_output = vgg_model(data)\n",
    "            end_vgg_time = time.time()\n",
    "            total_vgg_time += (end_vgg_time - start_vgg_time)\n",
    "            _, vgg_pred = torch.max(vgg_output, 1)\n",
    "            \n",
    "            # Measure time for ResNet-50 prediction\n",
    "            start_resnet_time = time.time()\n",
    "            resnet_output = resnet_model(data)\n",
    "            end_resnet_time = time.time()\n",
    "            total_resnet_time += (end_resnet_time - start_resnet_time)\n",
    "            _, resnet_pred = torch.max(resnet_output, 1)\n",
    "            \n",
    "            # Measure time for ensemble prediction\n",
    "            \n",
    "            ensemble_pred = (vgg_output + resnet_output) / 2\n",
    "            end_ensemble_time = time.time()\n",
    "            total_ensemble_time += (end_ensemble_time - start_ensemble_time)\n",
    "            _, final_ensemble_pred = torch.max(ensemble_pred, 1)\n",
    "            \n",
    "            # Store predictions\n",
    "            predictions['label'].extend(target.cpu().tolist())\n",
    "            predictions['1_pred'].extend(vgg_pred.cpu().tolist())\n",
    "            predictions['2_pred'].extend(resnet_pred.cpu().tolist())\n",
    "            predictions['ensemble_pred'].extend(final_ensemble_pred.cpu().tolist())\n",
    "    \n",
    "    # Return predictions and the individual model inference times\n",
    "    return predictions, total_vgg_time, total_resnet_time, total_ensemble_time\n",
    "\n",
    "# Perform ensemble prediction and measure total inference times for both models and the ensemble\n",
    "ensemble_predictions, total_vgg_time, total_resnet_time, total_ensemble_time = ensemble_predict(vgg19_model, resnet50_model, test_data_loader)\n",
    "\n",
    "# Calculate total number of images in the test dataset\n",
    "num_images = len(ensemble_predictions['label'])\n",
    "\n",
    "# Calculate average inference time per image for VGG-19, ResNet-50, and the ensemble\n",
    "average_vgg_inference_time = total_vgg_time / num_images\n",
    "average_resnet_inference_time = total_resnet_time / num_images\n",
    "average_ensemble_inference_time = total_ensemble_time / num_images\n",
    "\n",
    "# Print the average inference times\n",
    "print(f\"VGG-19 average inference time per image: {average_vgg_inference_time:.6f} seconds\")\n",
    "print(f\"ResNet-50 average inference time per image: {average_resnet_inference_time:.6f} seconds\")\n",
    "print(f\"Ensemble average inference time per image: {average_ensemble_inference_time:.6f} seconds\")\n",
    "\n",
    "# Proceed with evaluating models and computing metrics\n",
    "vgg_recall = recall_score(ensemble_predictions['label'], ensemble_predictions['1_pred'], average='weighted')\n",
    "resnet_recall = recall_score(ensemble_predictions['label'], ensemble_predictions['2_pred'], average='weighted')\n",
    "vgg_precision = precision_score(ensemble_predictions['label'], ensemble_predictions['1_pred'], average='weighted')\n",
    "resnet_precision = precision_score(ensemble_predictions['label'], ensemble_predictions['2_pred'], average='weighted')\n",
    "vgg_f2 = f2_score(vgg_precision, vgg_recall)\n",
    "resnet_f2 = f2_score(resnet_precision, resnet_recall)\n",
    "vgg_acc = accuracy_score(ensemble_predictions['label'], ensemble_predictions['1_pred'])\n",
    "resnet_acc = accuracy_score(ensemble_predictions['label'], ensemble_predictions['2_pred'])\n",
    "\n",
    "ensemble_acc = accuracy_score(ensemble_predictions['label'], ensemble_predictions['ensemble_pred'])\n",
    "ensemble_recall = recall_score(ensemble_predictions['label'], ensemble_predictions['ensemble_pred'], average='weighted')\n",
    "ensemble_precision = precision_score(ensemble_predictions['label'], ensemble_predictions['ensemble_pred'], average='weighted')\n",
    "ensemble_f2 = f2_score(ensemble_precision, ensemble_recall)\n",
    "\n",
    "print(\"********************************\")\n",
    "print(f'Ensemble F2 score: {ensemble_f2}')\n",
    "print(f'VGG-19 F2 score: {vgg_f2}')\n",
    "print(f'ResNet-50 F2 score: {resnet_f2}')\n",
    "print(\"********************************\")\n",
    "print(f'Ensemble accuracy: {ensemble_acc}')\n",
    "print(f'VGG-19 accuracy: {vgg_acc}')\n",
    "print(f'ResNet-50 accuracy: {resnet_acc}')\n",
    "print(\"********************************\")\n",
    "print(f'Ensemble recall: {ensemble_recall}')\n",
    "print(f'VGG-19 recall: {vgg_recall}')\n",
    "print(f'ResNet-50 recall: {resnet_recall}')\n",
    "print(\"********************************\")\n",
    "print(f'Ensemble precison: {ensemble_precision}')\n",
    "print(f'VGG-19 precision: {vgg_precision}')\n",
    "print(f'ResNet-50 precision: {resnet_precision}')"
   ]
  },
  {
   "cell_type": "code",
   "execution_count": 21,
   "id": "a3e9267a",
   "metadata": {},
   "outputs": [
    {
     "data": {
      "text/plain": [
       "<Figure size 600x600 with 0 Axes>"
      ]
     },
     "metadata": {},
     "output_type": "display_data"
    },
    {
     "data": {
      "image/png": "[encoded data removed]",
      "text/plain": [
       "<Figure size 640x480 with 1 Axes>"
      ]
     },
     "metadata": {},
     "output_type": "display_data"
    },
    {
     "data": {
      "text/plain": [
       "<Figure size 600x600 with 0 Axes>"
      ]
     },
     "metadata": {},
     "output_type": "display_data"
    },
    {
     "data": {
      "image/png": "[encoded data removed]",
      "text/plain": [
       "<Figure size 640x480 with 1 Axes>"
      ]
     },
     "metadata": {},
     "output_type": "display_data"
    },
    {
     "data": {
      "text/plain": [
       "<Figure size 600x600 with 0 Axes>"
      ]
     },
     "metadata": {},
     "output_type": "display_data"
    },
    {
     "data": {
      "image/png": "[encoded data removed]",
      "text/plain": [
       "<Figure size 640x480 with 1 Axes>"
      ]
     },
     "metadata": {},
     "output_type": "display_data"
    }
   ],
   "source": [
    "# Compute confusion matrices for each model\n",
    "vgg_conf_matrix = confusion_matrix(ensemble_predictions['label'], ensemble_predictions['1_pred'])\n",
    "resnet_conf_matrix = confusion_matrix(ensemble_predictions['label'], ensemble_predictions['2_pred'])\n",
    "ensemble_conf_matrix = confusion_matrix(ensemble_predictions['label'], ensemble_predictions['ensemble_pred'])\n",
    "\n",
    "# Plot confusion matrix for VGG-19\n",
    "plt.figure(figsize=(6, 6))\n",
    "vgg_disp = ConfusionMatrixDisplay(confusion_matrix=vgg_conf_matrix)\n",
    "vgg_disp.plot(cmap=\"viridis\", colorbar=False)\n",
    "plt.title(\"Confusion Matrix for VGG-19 Predictions\")\n",
    "plt.show()\n",
    "\n",
    "# Plot confusion matrix for ResNet-50\n",
    "plt.figure(figsize=(6, 6))\n",
    "resnet_disp = ConfusionMatrixDisplay(confusion_matrix=resnet_conf_matrix)\n",
    "resnet_disp.plot(cmap=\"viridis\", colorbar=False)\n",
    "plt.title(\"Confusion Matrix for ResNet-50 Predictions\")\n",
    "plt.show()\n",
    "\n",
    "# Plot confusion matrix for Ensemble\n",
    "plt.figure(figsize=(6, 6))\n",
    "ensemble_disp = ConfusionMatrixDisplay(confusion_matrix=ensemble_conf_matrix)\n",
    "ensemble_disp.plot(cmap=\"viridis\", colorbar=False)\n",
    "plt.title(\"Confusion Matrix for Ensemble Predictions\")\n",
    "plt.show()"
   ]
  },
  {
   "cell_type": "markdown",
   "id": "a969fbec",
   "metadata": {},
   "source": [
    "#### Test 2"
   ]
  },
  {
   "cell_type": "code",
   "execution_count": 22,
   "id": "c09d5b03",
   "metadata": {},
   "outputs": [
    {
     "name": "stdout",
     "output_type": "stream",
     "text": [
      "VGG-19 average inference time per image: 0.051039 seconds\n",
      "ResNet-50 average inference time per image: 0.018999 seconds\n",
      "Ensemble average inference time per image: 0.070129 seconds\n",
      "********************************\n",
      "Ensemble F2 score: 0.5783132530120483\n",
      "VGG-19 F2 score: 0.454233801851217\n",
      "ResNet-50 F2 score: 0.6203817733990148\n",
      "********************************\n",
      "Ensemble accuracy: 0.5454545454545454\n",
      "VGG-19 accuracy: 0.45454545454545453\n",
      "ResNet-50 accuracy: 0.5909090909090909\n",
      "********************************\n",
      "Ensemble recall: 0.5454545454545454\n",
      "VGG-19 recall: 0.45454545454545453\n",
      "ResNet-50 recall: 0.5909090909090909\n",
      "********************************\n",
      "Ensemble precison: 0.761904761904762\n",
      "VGG-19 precision: 0.452991452991453\n",
      "ResNet-50 precision: 0.775\n"
     ]
    }
   ],
   "source": [
    "import time\n",
    "# Check if a GPU is available and set the device accordingly\n",
    "device = torch.device(\"cpu\")\n",
    "\n",
    "# Function to perform ensemble prediction and measure inference time\n",
    "def ensemble_predict(vgg_model, resnet_model, test_loader):\n",
    "    predictions = {'label': [], '1_pred': [], '2_pred': [], 'ensemble_pred': []}\n",
    "    total_vgg_time = 0  # To track the total inference time for VGG-19\n",
    "    total_resnet_time = 0  # To track the total inference time for ResNet-50\n",
    "    total_ensemble_time = 0  # To track the total ensemble inference time\n",
    "    \n",
    "    with torch.no_grad():\n",
    "        for data, target in test_loader:\n",
    "            start_ensemble_time = time.time()\n",
    "            data = data.to(device)  # Move data to the same device as the models (GPU/CPU)\n",
    "            target = target.to(device)  # Move labels to the device\n",
    "            \n",
    "            # Measure time for VGG-19 prediction\n",
    "            start_vgg_time = time.time()\n",
    "            vgg_output = vgg_model(data)\n",
    "            end_vgg_time = time.time()\n",
    "            total_vgg_time += (end_vgg_time - start_vgg_time)\n",
    "            _, vgg_pred = torch.max(vgg_output, 1)\n",
    "            \n",
    "            # Measure time for ResNet-50 prediction\n",
    "            start_resnet_time = time.time()\n",
    "            resnet_output = resnet_model(data)\n",
    "            end_resnet_time = time.time()\n",
    "            total_resnet_time += (end_resnet_time - start_resnet_time)\n",
    "            _, resnet_pred = torch.max(resnet_output, 1)\n",
    "            \n",
    "            # Measure time for ensemble prediction\n",
    "            \n",
    "            ensemble_pred = (vgg_output + resnet_output) / 2\n",
    "            end_ensemble_time = time.time()\n",
    "            total_ensemble_time += (end_ensemble_time - start_ensemble_time)\n",
    "            _, final_ensemble_pred = torch.max(ensemble_pred, 1)\n",
    "            \n",
    "            # Store predictions\n",
    "            predictions['label'].extend(target.cpu().tolist())\n",
    "            predictions['1_pred'].extend(vgg_pred.cpu().tolist())\n",
    "            predictions['2_pred'].extend(resnet_pred.cpu().tolist())\n",
    "            predictions['ensemble_pred'].extend(final_ensemble_pred.cpu().tolist())\n",
    "    \n",
    "    # Return predictions and the individual model inference times\n",
    "    return predictions, total_vgg_time, total_resnet_time, total_ensemble_time\n",
    "\n",
    "# Perform ensemble prediction and measure total inference times for both models and the ensemble\n",
    "ensemble_predictions, total_vgg_time, total_resnet_time, total_ensemble_time = ensemble_predict(vgg19_model, resnet50_model, test_data_loader)\n",
    "\n",
    "# Calculate total number of images in the test dataset\n",
    "num_images = len(ensemble_predictions['label'])\n",
    "\n",
    "# Calculate average inference time per image for VGG-19, ResNet-50, and the ensemble\n",
    "average_vgg_inference_time = total_vgg_time / num_images\n",
    "average_resnet_inference_time = total_resnet_time / num_images\n",
    "average_ensemble_inference_time = total_ensemble_time / num_images\n",
    "\n",
    "# Print the average inference times\n",
    "print(f\"VGG-19 average inference time per image: {average_vgg_inference_time:.6f} seconds\")\n",
    "print(f\"ResNet-50 average inference time per image: {average_resnet_inference_time:.6f} seconds\")\n",
    "print(f\"Ensemble average inference time per image: {average_ensemble_inference_time:.6f} seconds\")\n",
    "\n",
    "# Proceed with evaluating models and computing metrics\n",
    "vgg_recall = recall_score(ensemble_predictions['label'], ensemble_predictions['1_pred'], average='weighted')\n",
    "resnet_recall = recall_score(ensemble_predictions['label'], ensemble_predictions['2_pred'], average='weighted')\n",
    "vgg_precision = precision_score(ensemble_predictions['label'], ensemble_predictions['1_pred'], average='weighted')\n",
    "resnet_precision = precision_score(ensemble_predictions['label'], ensemble_predictions['2_pred'], average='weighted')\n",
    "vgg_f2 = f2_score(vgg_precision, vgg_recall)\n",
    "resnet_f2 = f2_score(resnet_precision, resnet_recall)\n",
    "vgg_acc = accuracy_score(ensemble_predictions['label'], ensemble_predictions['1_pred'])\n",
    "resnet_acc = accuracy_score(ensemble_predictions['label'], ensemble_predictions['2_pred'])\n",
    "\n",
    "ensemble_acc = accuracy_score(ensemble_predictions['label'], ensemble_predictions['ensemble_pred'])\n",
    "ensemble_recall = recall_score(ensemble_predictions['label'], ensemble_predictions['ensemble_pred'], average='weighted')\n",
    "ensemble_precision = precision_score(ensemble_predictions['label'], ensemble_predictions['ensemble_pred'], average='weighted')\n",
    "ensemble_f2 = f2_score(ensemble_precision, ensemble_recall)\n",
    "\n",
    "print(\"********************************\")\n",
    "print(f'Ensemble F2 score: {ensemble_f2}')\n",
    "print(f'VGG-19 F2 score: {vgg_f2}')\n",
    "print(f'ResNet-50 F2 score: {resnet_f2}')\n",
    "print(\"********************************\")\n",
    "print(f'Ensemble accuracy: {ensemble_acc}')\n",
    "print(f'VGG-19 accuracy: {vgg_acc}')\n",
    "print(f'ResNet-50 accuracy: {resnet_acc}')\n",
    "print(\"********************************\")\n",
    "print(f'Ensemble recall: {ensemble_recall}')\n",
    "print(f'VGG-19 recall: {vgg_recall}')\n",
    "print(f'ResNet-50 recall: {resnet_recall}')\n",
    "print(\"********************************\")\n",
    "print(f'Ensemble precison: {ensemble_precision}')\n",
    "print(f'VGG-19 precision: {vgg_precision}')\n",
    "print(f'ResNet-50 precision: {resnet_precision}')"
   ]
  },
  {
   "cell_type": "code",
   "execution_count": 23,
   "id": "cfbcdb7c",
   "metadata": {},
   "outputs": [
    {
     "data": {
      "text/plain": [
       "<Figure size 600x600 with 0 Axes>"
      ]
     },
     "metadata": {},
     "output_type": "display_data"
    },
    {
     "data": {
      "image/png": "[encoded data removed]",
      "text/plain": [
       "<Figure size 640x480 with 1 Axes>"
      ]
     },
     "metadata": {},
     "output_type": "display_data"
    },
    {
     "data": {
      "text/plain": [
       "<Figure size 600x600 with 0 Axes>"
      ]
     },
     "metadata": {},
     "output_type": "display_data"
    },
    {
     "data": {
      "image/png": "[encoded data removed]",
      "text/plain": [
       "<Figure size 640x480 with 1 Axes>"
      ]
     },
     "metadata": {},
     "output_type": "display_data"
    },
    {
     "data": {
      "text/plain": [
       "<Figure size 600x600 with 0 Axes>"
      ]
     },
     "metadata": {},
     "output_type": "display_data"
    },
    {
     "data": {
      "image/png": "[encoded data removed]",
      "text/plain": [
       "<Figure size 640x480 with 1 Axes>"
      ]
     },
     "metadata": {},
     "output_type": "display_data"
    }
   ],
   "source": [
    "# Compute confusion matrices for each model\n",
    "vgg_conf_matrix = confusion_matrix(ensemble_predictions['label'], ensemble_predictions['1_pred'])\n",
    "resnet_conf_matrix = confusion_matrix(ensemble_predictions['label'], ensemble_predictions['2_pred'])\n",
    "ensemble_conf_matrix = confusion_matrix(ensemble_predictions['label'], ensemble_predictions['ensemble_pred'])\n",
    "\n",
    "# Plot confusion matrix for VGG-19\n",
    "plt.figure(figsize=(6, 6))\n",
    "vgg_disp = ConfusionMatrixDisplay(confusion_matrix=vgg_conf_matrix)\n",
    "vgg_disp.plot(cmap=\"viridis\", colorbar=False)\n",
    "plt.title(\"Confusion Matrix for VGG-19 Predictions\")\n",
    "plt.show()\n",
    "\n",
    "# Plot confusion matrix for ResNet-50\n",
    "plt.figure(figsize=(6, 6))\n",
    "resnet_disp = ConfusionMatrixDisplay(confusion_matrix=resnet_conf_matrix)\n",
    "resnet_disp.plot(cmap=\"viridis\", colorbar=False)\n",
    "plt.title(\"Confusion Matrix for ResNet-50 Predictions\")\n",
    "plt.show()\n",
    "\n",
    "# Plot confusion matrix for Ensemble\n",
    "plt.figure(figsize=(6, 6))\n",
    "ensemble_disp = ConfusionMatrixDisplay(confusion_matrix=ensemble_conf_matrix)\n",
    "ensemble_disp.plot(cmap=\"viridis\", colorbar=False)\n",
    "plt.title(\"Confusion Matrix for Ensemble Predictions\")\n",
    "plt.show()"
   ]
  },
  {
   "cell_type": "markdown",
   "id": "604317c6",
   "metadata": {},
   "source": [
    "#### Test 3"
   ]
  },
  {
   "cell_type": "code",
   "execution_count": 12,
   "id": "b2f179f5",
   "metadata": {},
   "outputs": [
    {
     "name": "stdout",
     "output_type": "stream",
     "text": [
      "VGG-19 average inference time per image: 0.055321 seconds\n",
      "ResNet-50 average inference time per image: 0.045362 seconds\n",
      "Ensemble average inference time per image: 0.100729 seconds\n",
      "********************************\n",
      "Ensemble F2 score: 0.5549510337323177\n",
      "VGG-19 F2 score: 0.44333076329992294\n",
      "ResNet-50 F2 score: 0.5\n",
      "********************************\n",
      "Ensemble accuracy: 0.5454545454545454\n",
      "VGG-19 accuracy: 0.45454545454545453\n",
      "ResNet-50 accuracy: 0.5\n",
      "********************************\n",
      "Ensemble recall: 0.5454545454545454\n",
      "VGG-19 recall: 0.45454545454545453\n",
      "ResNet-50 recall: 0.5\n",
      "********************************\n",
      "Ensemble precison: 0.5964912280701754\n",
      "VGG-19 precision: 0.40350877192982454\n",
      "ResNet-50 precision: 0.5\n"
     ]
    }
   ],
   "source": [
    "import time\n",
    "# Check if a GPU is available and set the device accordingly\n",
    "device = torch.device(\"cpu\")\n",
    "\n",
    "# Function to perform ensemble prediction and measure inference time\n",
    "def ensemble_predict(vgg_model, resnet_model, test_loader):\n",
    "    predictions = {'label': [], '1_pred': [], '2_pred': [], 'ensemble_pred': []}\n",
    "    total_vgg_time = 0  # To track the total inference time for VGG-19\n",
    "    total_resnet_time = 0  # To track the total inference time for ResNet-50\n",
    "    total_ensemble_time = 0  # To track the total ensemble inference time\n",
    "    \n",
    "    with torch.no_grad():\n",
    "        for data, target in test_loader:\n",
    "            start_ensemble_time = time.time()\n",
    "            data = data.to(device)  # Move data to the same device as the models (GPU/CPU)\n",
    "            target = target.to(device)  # Move labels to the device\n",
    "            \n",
    "            # Measure time for VGG-19 prediction\n",
    "            start_vgg_time = time.time()\n",
    "            vgg_output = vgg_model(data)\n",
    "            end_vgg_time = time.time()\n",
    "            total_vgg_time += (end_vgg_time - start_vgg_time)\n",
    "            _, vgg_pred = torch.max(vgg_output, 1)\n",
    "            \n",
    "            # Measure time for ResNet-50 prediction\n",
    "            start_resnet_time = time.time()\n",
    "            resnet_output = resnet_model(data)\n",
    "            end_resnet_time = time.time()\n",
    "            total_resnet_time += (end_resnet_time - start_resnet_time)\n",
    "            _, resnet_pred = torch.max(resnet_output, 1)\n",
    "            \n",
    "            # Measure time for ensemble prediction\n",
    "            \n",
    "            ensemble_pred = (vgg_output + resnet_output) / 2\n",
    "            end_ensemble_time = time.time()\n",
    "            total_ensemble_time += (end_ensemble_time - start_ensemble_time)\n",
    "            _, final_ensemble_pred = torch.max(ensemble_pred, 1)\n",
    "            \n",
    "            # Store predictions\n",
    "            predictions['label'].extend(target.cpu().tolist())\n",
    "            predictions['1_pred'].extend(vgg_pred.cpu().tolist())\n",
    "            predictions['2_pred'].extend(resnet_pred.cpu().tolist())\n",
    "            predictions['ensemble_pred'].extend(final_ensemble_pred.cpu().tolist())\n",
    "    \n",
    "    # Return predictions and the individual model inference times\n",
    "    return predictions, total_vgg_time, total_resnet_time, total_ensemble_time\n",
    "\n",
    "# Perform ensemble prediction and measure total inference times for both models and the ensemble\n",
    "ensemble_predictions, total_vgg_time, total_resnet_time, total_ensemble_time = ensemble_predict(vgg19_model, resnet50_model, test_data_loader)\n",
    "\n",
    "# Calculate total number of images in the test dataset\n",
    "num_images = len(ensemble_predictions['label'])\n",
    "\n",
    "# Calculate average inference time per image for VGG-19, ResNet-50, and the ensemble\n",
    "average_vgg_inference_time = total_vgg_time / num_images\n",
    "average_resnet_inference_time = total_resnet_time / num_images\n",
    "average_ensemble_inference_time = total_ensemble_time / num_images\n",
    "\n",
    "# Print the average inference times\n",
    "print(f\"VGG-19 average inference time per image: {average_vgg_inference_time:.6f} seconds\")\n",
    "print(f\"ResNet-50 average inference time per image: {average_resnet_inference_time:.6f} seconds\")\n",
    "print(f\"Ensemble average inference time per image: {average_ensemble_inference_time:.6f} seconds\")\n",
    "\n",
    "# Proceed with evaluating models and computing metrics\n",
    "vgg_recall = recall_score(ensemble_predictions['label'], ensemble_predictions['1_pred'], average='weighted')\n",
    "resnet_recall = recall_score(ensemble_predictions['label'], ensemble_predictions['2_pred'], average='weighted')\n",
    "vgg_precision = precision_score(ensemble_predictions['label'], ensemble_predictions['1_pred'], average='weighted')\n",
    "resnet_precision = precision_score(ensemble_predictions['label'], ensemble_predictions['2_pred'], average='weighted')\n",
    "vgg_f2 = f2_score(vgg_precision, vgg_recall)\n",
    "resnet_f2 = f2_score(resnet_precision, resnet_recall)\n",
    "vgg_acc = accuracy_score(ensemble_predictions['label'], ensemble_predictions['1_pred'])\n",
    "resnet_acc = accuracy_score(ensemble_predictions['label'], ensemble_predictions['2_pred'])\n",
    "\n",
    "ensemble_acc = accuracy_score(ensemble_predictions['label'], ensemble_predictions['ensemble_pred'])\n",
    "ensemble_recall = recall_score(ensemble_predictions['label'], ensemble_predictions['ensemble_pred'], average='weighted')\n",
    "ensemble_precision = precision_score(ensemble_predictions['label'], ensemble_predictions['ensemble_pred'], average='weighted')\n",
    "ensemble_f2 = f2_score(ensemble_precision, ensemble_recall)\n",
    "\n",
    "print(\"********************************\")\n",
    "print(f'Ensemble F2 score: {ensemble_f2}')\n",
    "print(f'VGG-19 F2 score: {vgg_f2}')\n",
    "print(f'ResNet-50 F2 score: {resnet_f2}')\n",
    "print(\"********************************\")\n",
    "print(f'Ensemble accuracy: {ensemble_acc}')\n",
    "print(f'VGG-19 accuracy: {vgg_acc}')\n",
    "print(f'ResNet-50 accuracy: {resnet_acc}')\n",
    "print(\"********************************\")\n",
    "print(f'Ensemble recall: {ensemble_recall}')\n",
    "print(f'VGG-19 recall: {vgg_recall}')\n",
    "print(f'ResNet-50 recall: {resnet_recall}')\n",
    "print(\"********************************\")\n",
    "print(f'Ensemble precison: {ensemble_precision}')\n",
    "print(f'VGG-19 precision: {vgg_precision}')\n",
    "print(f'ResNet-50 precision: {resnet_precision}')"
   ]
  },
  {
   "cell_type": "code",
   "execution_count": 18,
   "id": "581d2ef6",
   "metadata": {},
   "outputs": [
    {
     "data": {
      "text/plain": [
       "<Figure size 600x600 with 0 Axes>"
      ]
     },
     "metadata": {},
     "output_type": "display_data"
    },
    {
     "data": {
      "image/png": "[encoded data removed]",
      "text/plain": [
       "<Figure size 640x480 with 1 Axes>"
      ]
     },
     "metadata": {},
     "output_type": "display_data"
    },
    {
     "data": {
      "text/plain": [
       "<Figure size 600x600 with 0 Axes>"
      ]
     },
     "metadata": {},
     "output_type": "display_data"
    },
    {
     "data": {
      "image/png": "[encoded data removed]",
      "text/plain": [
       "<Figure size 640x480 with 1 Axes>"
      ]
     },
     "metadata": {},
     "output_type": "display_data"
    },
    {
     "data": {
      "text/plain": [
       "<Figure size 600x600 with 0 Axes>"
      ]
     },
     "metadata": {},
     "output_type": "display_data"
    },
    {
     "data": {
      "image/png": "[encoded data removed]",
      "text/plain": [
       "<Figure size 640x480 with 1 Axes>"
      ]
     },
     "metadata": {},
     "output_type": "display_data"
    }
   ],
   "source": [
    "# Compute confusion matrices for each model\n",
    "vgg_conf_matrix = confusion_matrix(ensemble_predictions['label'], ensemble_predictions['1_pred'])\n",
    "resnet_conf_matrix = confusion_matrix(ensemble_predictions['label'], ensemble_predictions['2_pred'])\n",
    "ensemble_conf_matrix = confusion_matrix(ensemble_predictions['label'], ensemble_predictions['ensemble_pred'])\n",
    "\n",
    "# Plot confusion matrix for VGG-19\n",
    "plt.figure(figsize=(6, 6))\n",
    "vgg_disp = ConfusionMatrixDisplay(confusion_matrix=vgg_conf_matrix)\n",
    "vgg_disp.plot(cmap=\"viridis\", colorbar=False)\n",
    "plt.title(\"Confusion Matrix for VGG-19 Predictions\")\n",
    "plt.show()\n",
    "\n",
    "# Plot confusion matrix for ResNet-50\n",
    "plt.figure(figsize=(6, 6))\n",
    "resnet_disp = ConfusionMatrixDisplay(confusion_matrix=resnet_conf_matrix)\n",
    "resnet_disp.plot(cmap=\"viridis\", colorbar=False)\n",
    "plt.title(\"Confusion Matrix for ResNet-50 Predictions\")\n",
    "plt.show()\n",
    "\n",
    "# Plot confusion matrix for Ensemble\n",
    "plt.figure(figsize=(6, 6))\n",
    "ensemble_disp = ConfusionMatrixDisplay(confusion_matrix=ensemble_conf_matrix)\n",
    "ensemble_disp.plot(cmap=\"viridis\", colorbar=False)\n",
    "plt.title(\"Confusion Matrix for Ensemble Predictions\")\n",
    "plt.show()"
   ]
  }
 ],
 "metadata": {
  "kernelspec": {
   "display_name": ".env",
   "language": "python",
   "name": "python3"
  },
  "language_info": {
   "codemirror_mode": {
    "name": "ipython",
    "version": 3
   },
   "file_extension": ".py",
   "mimetype": "text/x-python",
   "name": "python",
   "nbconvert_exporter": "python",
   "pygments_lexer": "ipython3",
   "version": "3.10.0"
  }
 },
 "nbformat": 4,
 "nbformat_minor": 5
}
