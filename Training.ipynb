{
 "cells": [
  {
   "cell_type": "markdown",
   "id": "d305aca8",
   "metadata": {},
   "source": [
    "To be up-to-date on the most current version of this code. Check out my GitHub repository: https://github.com/Neatherblok/SnowDetection"
   ]
  },
  {
   "cell_type": "code",
   "execution_count": null,
   "id": "8edfaf59",
   "metadata": {},
   "outputs": [],
   "source": [
    "import torch\n",
    "import torch.nn as nn\n",
    "import torch.optim as optim\n",
    "from torchvision import models, transforms, datasets\n",
    "from torch.utils.data import DataLoader\n",
    "from tqdm import tqdm"
   ]
  },
  {
   "cell_type": "markdown",
   "id": "9b7f64a5-f521-4b48-8625-0c94fe75e531",
   "metadata": {},
   "source": [
    "## Data Preparation"
   ]
  },
  {
   "cell_type": "code",
   "execution_count": null,
   "id": "8d659110",
   "metadata": {},
   "outputs": [],
   "source": [
    "from Data_Preparation.Preparation import CustomDataLoader"
   ]
  },
  {
   "cell_type": "code",
   "execution_count": null,
   "id": "a1373081-f310-4daf-b9c2-642109f460b9",
   "metadata": {},
   "outputs": [],
   "source": [
    "# training data properties\n",
    "MEAN = [0.485, 0.456, 0.406]\n",
    "STD = [0.229, 0.224, 0.225]\n",
    "BATCH_SIZE = 32"
   ]
  },
  {
   "cell_type": "code",
   "execution_count": null,
   "id": "db88c730",
   "metadata": {},
   "outputs": [],
   "source": [
    "# Instantiate the CustomDataLoader class for training\n",
    "train_data_loader = CustomDataLoader(data_path=\"./data\", batch_size=BATCH_SIZE, dataset_type=\"train\", mean=MEAN, std=STD).data_loader\n",
    "test_data_loader = CustomDataLoader(data_path=\"./data\", batch_size=BATCH_SIZE, dataset_type=\"test\", mean=MEAN, std=STD).data_loader\n",
    "\n",
    "image_datasets = {'train':train_data_loader.dataset, 'val':test_data_loader.dataset}\n",
    "dataloaders = {'train':train_data_loader, 'val':test_data_loader}"
   ]
  },
  {
   "cell_type": "markdown",
   "id": "932b5acd-b466-46bb-b92c-e7c5facd26c1",
   "metadata": {},
   "source": [
    "## Initializing VGG19 and ResNet50 Finetuning"
   ]
  },
  {
   "cell_type": "code",
   "execution_count": null,
   "id": "11a18667",
   "metadata": {},
   "outputs": [],
   "source": [
    "# Load pre-trained models\n",
    "vgg19 = models.vgg19(pretrained=True)\n",
    "resnet50 = models.resnet50(pretrained=True)"
   ]
  },
  {
   "cell_type": "code",
   "execution_count": null,
   "id": "4a19ccd5-852f-4bce-9422-06d5f4a97f5b",
   "metadata": {},
   "outputs": [],
   "source": [
    "# Freeze parameters so we don't backprop through them\n",
    "for param in vgg19.parameters():\n",
    "    param.requires_grad = False\n",
    "for param in resnet50.parameters():\n",
    "    param.requires_grad = False"
   ]
  },
  {
   "cell_type": "code",
   "execution_count": null,
   "id": "1bfe552c-d0f7-4946-8db1-5f7eb1e70218",
   "metadata": {},
   "outputs": [],
   "source": [
    "# Replace the classifier with a new one\n",
    "num_classes = len(train_data_loader.dataset.classes)\n",
    "vgg19.classifier[6] = nn.Linear(4096, num_classes)\n",
    "resnet50.fc = nn.Linear(2048, num_classes)"
   ]
  },
  {
   "cell_type": "code",
   "execution_count": null,
   "id": "ed27680e",
   "metadata": {},
   "outputs": [],
   "source": [
    "# Define loss function and optimizer\n",
    "criterion = nn.CrossEntropyLoss()\n",
    "optimizer_vgg19 = optim.Adam(vgg19.parameters())\n",
    "optimizer_resnet50 = optim.Adam(resnet50.parameters())"
   ]
  },
  {
   "cell_type": "markdown",
   "id": "b4aa8288-7a7a-4d5a-a190-74b0c28d547a",
   "metadata": {},
   "source": [
    "## Training VGG19 and ResNet50"
   ]
  },
  {
   "cell_type": "code",
   "execution_count": null,
   "id": "db5d68dd-025d-4943-8016-14221ab5f9fe",
   "metadata": {},
   "outputs": [],
   "source": [
    "# Train the models\n",
    "num_epochs = 10\n",
    "for epoch in tqdm(range(num_epochs)):\n",
    "    for phase in ['train', 'val']:\n",
    "        if phase == 'train':\n",
    "            vgg19.train()\n",
    "            resnet50.train()\n",
    "        else:\n",
    "            vgg19.eval()\n",
    "            resnet50.eval()\n",
    "\n",
    "        running_loss = 0.0\n",
    "        corrects = 0\n",
    "\n",
    "        for inputs, labels in dataloaders[phase]:\n",
    "            optimizer_vgg19.zero_grad()\n",
    "            optimizer_resnet50.zero_grad()\n",
    "\n",
    "            with torch.set_grad_enabled(phase == 'train'):\n",
    "                outputs_vgg19 = vgg19(inputs)\n",
    "                outputs_resnet50 = resnet50(inputs)\n",
    "                _, preds_vgg19 = torch.max(outputs_vgg19, 1)\n",
    "                _, preds_resnet50 = torch.max(outputs_resnet50, 1)\n",
    "\n",
    "                loss_vgg19 = criterion(outputs_vgg19, labels)\n",
    "                loss_resnet50 = criterion(outputs_resnet50, labels)\n",
    "\n",
    "                if phase == 'train':\n",
    "                    loss_vgg19.backward()\n",
    "                    loss_resnet50.backward()\n",
    "                    optimizer_vgg19.step()\n",
    "                    optimizer_resnet50.step()\n",
    "\n",
    "            running_loss += loss_vgg19.item() * inputs.size(0)\n",
    "            running_loss += loss_resnet50.item() * inputs.size(0)\n",
    "            corrects += torch.sum(preds_vgg19 == labels.data)\n",
    "            corrects += torch.sum(preds_resnet50 == labels.data)\n",
    "\n",
    "        epoch_loss = running_loss / len(image_datasets[phase])\n",
    "        epoch_acc = corrects.double() / len(image_datasets[phase])\n",
    "\n",
    "        print('{} Loss: {:.4f} | Acc: {:.4f}'.format(phase, epoch_loss, epoch_acc))"
   ]
  },
  {
   "cell_type": "markdown",
   "id": "71d3438a",
   "metadata": {},
   "source": [
    "## Ensemble Models"
   ]
  },
  {
   "cell_type": "code",
   "execution_count": null,
   "id": "c75fd8ab",
   "metadata": {},
   "outputs": [],
   "source": [
    "# Ensemble predictions\n",
    "def ensemble_predict(model1, model2, dataloader):\n",
    "    predictions = []\n",
    "    for inputs, labels in dataloader:\n",
    "        outputs1 = model1(inputs)\n",
    "        outputs2 = model2(inputs)\n",
    "        outputs = (outputs1 + outputs2) / 2  # Simple averaging\n",
    "        _, preds = torch.max(outputs, 1)\n",
    "        predictions.extend(preds.tolist())\n",
    "    return {'pred':predictions, 'label':labels}\n",
    "\n",
    "ensemble_predictions = ensemble_predict(vgg19, resnet50, dataloaders['val'])"
   ]
  },
  {
   "cell_type": "code",
   "execution_count": null,
   "id": "1b2da7c9",
   "metadata": {},
   "outputs": [],
   "source": [
    "print(ensemble_predictions)"
   ]
  }
 ],
 "metadata": {
  "kernelspec": {
   "display_name": "Python 3 (ipykernel)",
   "language": "python",
   "name": "python3"
  },
  "language_info": {
   "codemirror_mode": {
    "name": "ipython",
    "version": 3
   },
   "file_extension": ".py",
   "mimetype": "text/x-python",
   "name": "python",
   "nbconvert_exporter": "python",
   "pygments_lexer": "ipython3",
   "version": "3.9.7"
  }
 },
 "nbformat": 4,
 "nbformat_minor": 5
}
